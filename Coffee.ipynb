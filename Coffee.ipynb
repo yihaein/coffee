{
 "cells": [
  {
   "cell_type": "markdown",
   "id": "b90f4f7d",
   "metadata": {},
   "source": [
    "# Coffee from major markets provide more marketing, sales, and profits"
   ]
  },
  {
   "cell_type": "code",
   "execution_count": 1,
   "id": "d17e93e9",
   "metadata": {},
   "outputs": [],
   "source": [
    "import numpy as np\n",
    "import pandas as pd\n",
    "import seaborn as sns\n",
    "from sklearn.linear_model import LinearRegression\n",
    "from sklearn.metrics import mean_squared_error"
   ]
  },
  {
   "cell_type": "code",
   "execution_count": 2,
   "id": "1e944d80",
   "metadata": {},
   "outputs": [
    {
     "name": "stdout",
     "output_type": "stream",
     "text": [
      "      Row ID  Area Code   Date   Market   Market Size            Product  \\\n",
      "0          1        719  40909  Central  Major Market           Amaretto   \n",
      "1          2        970  40909  Central  Major Market          Colombian   \n",
      "2          3        970  40909  Central  Major Market  Decaf Irish Cream   \n",
      "3          4        303  40909  Central  Major Market          Green Tea   \n",
      "4          5        303  40909  Central  Major Market        Caffe Mocha   \n",
      "...      ...        ...    ...      ...           ...                ...   \n",
      "8491    8492        318  41609    South  Small Market              Lemon   \n",
      "8492    8493        985  41609    South  Small Market          Colombian   \n",
      "8493    8494        337  41609    South  Small Market  Decaf Irish Cream   \n",
      "8494    8495        225  41609    South  Small Market        Caffe Latte   \n",
      "8495    8496        225  41609    South  Small Market        Caffe Mocha   \n",
      "\n",
      "     Product Line Product Type      State     Type  ...  Budget Margin  \\\n",
      "0           Beans       Coffee   Colorado  Regular  ...            130   \n",
      "1           Beans       Coffee   Colorado  Regular  ...            110   \n",
      "2           Beans       Coffee   Colorado    Decaf  ...            140   \n",
      "3          Leaves          Tea   Colorado  Regular  ...             50   \n",
      "4           Beans     Espresso   Colorado  Regular  ...             90   \n",
      "...           ...          ...        ...      ...  ...            ...   \n",
      "8491       Leaves   Herbal Tea  Louisiana    Decaf  ...             80   \n",
      "8492        Beans       Coffee  Louisiana  Regular  ...             90   \n",
      "8493        Beans       Coffee  Louisiana    Decaf  ...             60   \n",
      "8494        Beans     Espresso  Louisiana  Regular  ...             60   \n",
      "8495        Beans     Espresso  Louisiana  Regular  ...             50   \n",
      "\n",
      "      Budget Profit  Budget Sales  COGS  Inventory  Margin  Marketing  Profit  \\\n",
      "0               100           220    89        777     130         24      94   \n",
      "1                80           190    83        623     107         27      68   \n",
      "2               110           240    95        821     139         26     101   \n",
      "3                30            80    44        623      56         14      30   \n",
      "4                70           150    54        456      80         15      54   \n",
      "...             ...           ...   ...        ...     ...        ...     ...   \n",
      "8491             30           140    68        619      85         25      39   \n",
      "8492             70           140    49        845      71         13      68   \n",
      "8493             50           100    34        863      51          9      46   \n",
      "8494              0           100    55      -1053      76         49      -4   \n",
      "8495             20            80    41        320      66         12      46   \n",
      "\n",
      "      Sales  Total Expenses  \n",
      "0       219              36  \n",
      "1       190              39  \n",
      "2       234              38  \n",
      "3       100              26  \n",
      "4       134              26  \n",
      "...     ...             ...  \n",
      "8491    163              59  \n",
      "8492    128              25  \n",
      "8493     91              20  \n",
      "8494    140              79  \n",
      "8495    114              35  \n",
      "\n",
      "[8496 rows x 21 columns]\n",
      "(8496, 21)\n"
     ]
    }
   ],
   "source": [
    "#load data from https://data.world/santhosh586/gfdgdg\n",
    "url = 'https://query.data.world/s/nfygopbhprl2ar5ney4g2ja54jdc2t'\n",
    "COFFEE = pd.read_excel(url)\n",
    "print(COFFEE)\n",
    "print(COFFEE.shape) #dimensions of dataframe\n",
    "col_names = ['Row_ID', 'Area_Code', 'Date', 'Market', 'Market_Size', 'Product', 'Product_Line', 'Product_Type', 'State',\n",
    "             'Type', 'Budget_COGS', 'Budget_Margin', 'Budget_Profit', 'Budget_Sales', 'COGS', 'Inventory', 'Margin',\n",
    "             'Marketing', 'Profit', 'Sales', 'Total_Expenses']\n",
    "dframe = pd.read_excel(url, names = col_names) #replace spaces with _ in the columns"
   ]
  },
  {
   "cell_type": "markdown",
   "id": "1a78ebba",
   "metadata": {},
   "source": [
    "# Market Sizes"
   ]
  },
  {
   "cell_type": "code",
   "execution_count": 3,
   "id": "cd9e3db7",
   "metadata": {},
   "outputs": [
    {
     "name": "stdout",
     "output_type": "stream",
     "text": [
      "['Major Market' 'Small Market']\n",
      "            Row_ID    Area_Code          Date  Budget_COGS  Budget_Margin  \\\n",
      "count  3408.000000  3408.000000   3408.000000  3408.000000    3408.000000   \n",
      "mean   4241.687207   616.668427  41258.916667   101.420188     133.485915   \n",
      "std    2466.662877   236.806490    210.719059    81.582395     119.115943   \n",
      "min       1.000000   209.000000  40909.000000     0.000000    -140.000000   \n",
      "25%    2116.750000   408.000000  41083.500000    40.000000      60.000000   \n",
      "50%    4232.500000   646.000000  41259.500000    70.000000     105.000000   \n",
      "75%    6384.250000   815.000000  41433.500000   130.000000     160.000000   \n",
      "max    8490.000000   979.000000  41609.000000   450.000000     690.000000   \n",
      "\n",
      "       Budget_Profit  Budget_Sales         COGS    Inventory       Margin  \\\n",
      "count    3408.000000   3408.000000  3408.000000  3408.000000  3408.000000   \n",
      "mean       86.842723    234.906103   108.801643   860.448357   135.438967   \n",
      "std       104.698019    187.102456    74.313684   711.680954   112.316619   \n",
      "min      -260.000000     20.000000    16.000000 -3534.000000  -187.000000   \n",
      "25%        30.000000    110.000000    53.750000   509.000000    67.750000   \n",
      "50%        70.000000    170.000000    84.000000   716.500000   112.000000   \n",
      "75%       120.000000    280.000000   132.000000  1003.000000   170.000000   \n",
      "max       560.000000   1140.000000   364.000000  5121.000000   613.000000   \n",
      "\n",
      "         Marketing       Profit        Sales  Total_Expenses  \n",
      "count  3408.000000  3408.000000  3408.000000     3408.000000  \n",
      "mean     37.853286    91.394366   249.495892       60.258216  \n",
      "std      28.695187   124.256797   174.487659       35.001550  \n",
      "min       4.000000  -420.000000    41.000000       15.000000  \n",
      "25%      19.000000    28.000000   125.000000       37.000000  \n",
      "50%      27.000000    73.000000   199.000000       51.000000  \n",
      "75%      47.000000   138.000000   301.000000       76.000000  \n",
      "max     156.000000   778.000000   912.000000      189.000000  \n",
      "            Row_ID    Area_Code          Date  Budget_COGS  Budget_Margin  \\\n",
      "count  5088.000000  5088.000000   5088.000000  5088.000000    5088.000000   \n",
      "mean   4253.063286   559.242925  41258.916667    57.020440      78.938679   \n",
      "std    2443.582560   206.821249    210.708849    45.579142      60.182980   \n",
      "min      21.000000   203.000000  40909.000000     0.000000    -210.000000   \n",
      "25%    2139.750000   435.000000  41083.500000    30.000000      40.000000   \n",
      "50%    4258.500000   541.000000  41259.500000    40.000000      70.000000   \n",
      "75%    6358.000000   702.000000  41433.500000    70.000000     100.000000   \n",
      "max    8496.000000   985.000000  41609.000000   250.000000     350.000000   \n",
      "\n",
      "       Budget_Profit  Budget_Sales         COGS    Inventory       Margin  \\\n",
      "count    5088.000000   5088.000000  5088.000000  5088.000000  5088.000000   \n",
      "mean       43.545597    135.959119    68.110849   674.987421    83.431604   \n",
      "std        49.717182     98.193752    56.466738   613.675880    72.990102   \n",
      "min      -320.000000      0.000000     0.000000 -2248.000000  -302.000000   \n",
      "25%        20.000000     70.000000    35.000000   380.000000    46.000000   \n",
      "50%        40.000000    110.000000    50.000000   599.500000    68.000000   \n",
      "75%        60.000000    170.000000    80.000000   844.000000    96.000000   \n",
      "max       250.000000    600.000000   302.000000  8252.000000   392.000000   \n",
      "\n",
      "         Marketing       Profit        Sales  Total_Expenses  \n",
      "count  5088.000000  5088.000000  5088.000000     5088.000000  \n",
      "mean     26.718553    40.804638   155.137579       49.914308  \n",
      "std      24.862069    76.846378   119.062288       29.736642  \n",
      "min       0.000000  -638.000000    17.000000       10.000000  \n",
      "25%      11.000000    12.000000    85.000000       27.000000  \n",
      "50%      17.000000    31.000000   122.000000       44.000000  \n",
      "75%      33.000000    55.000000   171.000000       62.000000  \n",
      "max     156.000000   362.000000   716.000000      190.000000  \n",
      "3408\n",
      "5088\n"
     ]
    }
   ],
   "source": [
    "market_sizes = dframe.Market_Size.unique()\n",
    "print(market_sizes) #print list of unique market sizes\n",
    "\n",
    "major = dframe.loc[dframe.Market_Size == 'Major Market'] #data of coffee in a major market\n",
    "small = dframe.loc[dframe.Market_Size == 'Small Market'] #data of coffee in a small market\n",
    "\n",
    "print(major.describe()) #print statistical details of data of coffee in a major market\n",
    "print(small.describe()) #print statistical details of data of coffee in a small market\n",
    "\n",
    "print(major.shape[0]) #number of coffee in a major market\n",
    "print(small.shape[0]) #number of coffee in a small market\n",
    "\n",
    "majormeanM = major.mean()[10] #mean marketing of coffee in a major market\n",
    "smallmeanM = small.mean()[10] #mean marketing of coffee in a small market\n",
    "\n",
    "majormeanS = major.mean()[12] #mean sales of coffee in a major market\n",
    "smallmeanS = small.mean()[12] #mean sales of coffee in a small market\n",
    "\n",
    "majormeanP = major.mean()[11] #mean profit of coffee in a major market\n",
    "smallmeanP = small.mean()[11] #mean profit of coffee in a small market"
   ]
  },
  {
   "cell_type": "markdown",
   "id": "64ddfd2c",
   "metadata": {},
   "source": [
    "There are 3408 coffee in a major market.\n",
    "\n",
    "There are 5088 coffee in a small market."
   ]
  },
  {
   "cell_type": "markdown",
   "id": "52d7ef06",
   "metadata": {},
   "source": [
    "# Coffee Types"
   ]
  },
  {
   "cell_type": "code",
   "execution_count": 4,
   "id": "c00bb3b0",
   "metadata": {},
   "outputs": [
    {
     "name": "stdout",
     "output_type": "stream",
     "text": [
      "['Regular' 'Decaf']\n",
      "            Row_ID    Area_Code          Date  Budget_COGS  Budget_Margin  \\\n",
      "count  4800.000000  4800.000000   4800.000000  4800.000000    4800.000000   \n",
      "mean   4250.363333   583.617917  41258.916667    75.391667     105.000000   \n",
      "std    2453.611883   219.211140    210.710092    71.420650     105.338241   \n",
      "min       1.000000   203.000000  40909.000000     0.000000    -210.000000   \n",
      "25%    2126.750000   425.000000  41083.500000    30.000000      50.000000   \n",
      "50%    4248.000000   580.000000  41259.500000    50.000000      70.000000   \n",
      "75%    6373.250000   755.500000  41433.500000    90.000000     130.000000   \n",
      "max    8496.000000   985.000000  41609.000000   450.000000     690.000000   \n",
      "\n",
      "       Budget_Profit  Budget_Sales         COGS    Inventory       Margin  \\\n",
      "count    4800.000000   4800.000000  4800.000000  4800.000000  4800.000000   \n",
      "mean       63.133333    180.391667    84.573333   718.427500   107.710833   \n",
      "std        91.753853    166.796960    71.162113   756.178638   105.019450   \n",
      "min      -320.000000      0.000000     0.000000 -3534.000000  -302.000000   \n",
      "25%        20.000000     80.000000    41.000000   398.500000    53.000000   \n",
      "50%        40.000000    120.000000    58.000000   602.500000    76.000000   \n",
      "75%        80.000000    210.000000    99.000000   876.000000   134.000000   \n",
      "max       560.000000   1140.000000   364.000000  8252.000000   613.000000   \n",
      "\n",
      "         Marketing       Profit        Sales  Total_Expenses  \n",
      "count  4800.000000  4800.000000  4800.000000     4800.000000  \n",
      "mean     32.019167    63.665833   196.744583       55.489583  \n",
      "std      28.489844   115.425318   163.974978       34.045051  \n",
      "min       0.000000  -638.000000    17.000000       10.000000  \n",
      "25%      13.000000    15.000000    94.000000       34.000000  \n",
      "50%      22.000000    40.000000   134.000000       46.000000  \n",
      "75%      41.000000    97.000000   232.250000       69.000000  \n",
      "max     156.000000   778.000000   912.000000      189.000000  \n",
      "            Row_ID    Area_Code          Date  Budget_COGS  Budget_Margin  \\\n",
      "count  3696.000000  3696.000000   3696.000000  3696.000000    3696.000000   \n",
      "mean   4246.080087   580.537879  41258.916667    74.101732      95.389610   \n",
      "std    2451.910107   223.609051    210.716650    58.821575      72.449953   \n",
      "min       3.000000   203.000000  40909.000000     0.000000    -140.000000   \n",
      "25%    2124.750000   414.000000  41083.500000    30.000000      50.000000   \n",
      "50%    4249.500000   563.000000  41259.500000    60.000000      70.000000   \n",
      "75%    6367.500000   773.000000  41433.500000   100.000000     130.000000   \n",
      "max    8494.000000   985.000000  41609.000000   340.000000     410.000000   \n",
      "\n",
      "       Budget_Profit  Budget_Sales         COGS    Inventory       Margin  \\\n",
      "count    3696.000000   3696.000000  3696.000000  3696.000000  3696.000000   \n",
      "mean       58.030303    169.491342    84.251082   789.581169    99.854978   \n",
      "std        59.973970    121.491235    61.799376   508.891338    78.109424   \n",
      "min      -230.000000     10.000000     0.000000   187.000000  -187.000000   \n",
      "25%        30.000000     90.000000    44.000000   481.750000    52.000000   \n",
      "50%        50.000000    130.000000    65.000000   677.500000    75.000000   \n",
      "75%        80.000000    210.000000   100.250000   956.250000   130.500000   \n",
      "max       310.000000    710.000000   311.000000  5121.000000   523.000000   \n",
      "\n",
      "         Marketing       Profit        Sales  Total_Expenses  \n",
      "count  3696.000000  3696.000000  3696.000000     3696.000000  \n",
      "mean     30.101732    57.762446   188.108225       52.211580  \n",
      "std      24.948736    80.353423   132.451715       29.910994  \n",
      "min       0.000000  -420.000000    23.000000       11.000000  \n",
      "25%      14.000000    19.000000   107.000000       31.000000  \n",
      "50%      23.000000    41.000000   141.000000       46.000000  \n",
      "75%      36.000000    86.000000   228.000000       63.000000  \n",
      "max     156.000000   536.000000   796.000000      190.000000  \n",
      "4800\n",
      "3696\n"
     ]
    }
   ],
   "source": [
    "types = dframe.Type.unique()\n",
    "print(types) #print list of unique coffee types\n",
    "\n",
    "regular = dframe.loc[dframe.Type == 'Regular'] #data of non-decaf\n",
    "decaf = dframe.loc[dframe.Type == 'Decaf'] #data of decaf\n",
    "\n",
    "print(regular.describe()) #print statistical details of data of non-decaf\n",
    "print(decaf.describe()) #print statistical details of data of decaf\n",
    "\n",
    "print(regular.shape[0]) #number of non-decaf\n",
    "print(decaf.shape[0]) #number of decaf\n",
    "\n",
    "regmeanM = regular.mean()[10] #mean marketing of non-decaf\n",
    "decafmeanM = decaf.mean()[10] #mean marketing of decaf\n",
    "\n",
    "regmeanS = regular.mean()[12] #mean sales of non-decaf\n",
    "decafmeanS = decaf.mean()[12] #mean sales of decaf\n",
    "\n",
    "regmeanP = regular.mean()[11] #mean profit of non-decaf\n",
    "decafmeanP = decaf.mean()[11] #mean profit of decaf"
   ]
  },
  {
   "cell_type": "markdown",
   "id": "684d4175",
   "metadata": {},
   "source": [
    "There are 4800 non-decaf.\n",
    "\n",
    "There are 3696 decaf."
   ]
  },
  {
   "cell_type": "markdown",
   "id": "de0a084a",
   "metadata": {},
   "source": [
    "## Major Market"
   ]
  },
  {
   "cell_type": "code",
   "execution_count": 5,
   "id": "ca049578",
   "metadata": {},
   "outputs": [
    {
     "name": "stdout",
     "output_type": "stream",
     "text": [
      "            Row_ID    Area_Code          Date  Budget_COGS  Budget_Margin  \\\n",
      "count  1920.000000  1920.000000   1920.000000  1920.000000    1920.000000   \n",
      "mean   4242.510938   617.259375  41258.916667   108.062500     152.562500   \n",
      "std    2465.936712   235.068361    210.743030    87.835392     135.695365   \n",
      "min       1.000000   209.000000  40909.000000    10.000000     -90.000000   \n",
      "25%    2118.750000   413.000000  41083.500000    50.000000      70.000000   \n",
      "50%    4232.000000   646.000000  41259.500000    80.000000     110.000000   \n",
      "75%    6381.250000   815.000000  41433.500000   130.000000     180.000000   \n",
      "max    8490.000000   979.000000  41609.000000   450.000000     690.000000   \n",
      "\n",
      "       Budget_Profit  Budget_Sales         COGS    Inventory       Margin  \\\n",
      "count    1920.000000   1920.000000  1920.000000  1920.000000  1920.000000   \n",
      "mean      101.645833    260.625000   111.997917   850.589583   151.235417   \n",
      "std       119.327626    211.641455    74.989178   730.039208   122.976397   \n",
      "min      -260.000000     40.000000    16.000000 -3534.000000   -95.000000   \n",
      "25%        40.000000    110.000000    54.000000   558.000000    72.000000   \n",
      "50%        75.000000    190.000000    89.000000   777.000000   125.500000   \n",
      "75%       130.000000    312.500000   134.250000  1038.250000   178.000000   \n",
      "max       560.000000   1140.000000   364.000000  3641.000000   613.000000   \n",
      "\n",
      "         Marketing       Profit        Sales  Total_Expenses  \n",
      "count  1920.000000  1920.000000  1920.000000     1920.000000  \n",
      "mean     40.362500   107.146875   268.886458       63.171875  \n",
      "std      31.837423   135.871718   188.305122       39.183068  \n",
      "min       4.000000  -392.000000    41.000000       15.000000  \n",
      "25%      19.000000    35.000000   129.000000       36.000000  \n",
      "50%      27.000000    84.000000   213.500000       51.000000  \n",
      "75%      50.000000   145.250000   322.000000       83.000000  \n",
      "max     156.000000   778.000000   912.000000      189.000000  \n",
      "            Row_ID    Area_Code          Date  Budget_COGS  Budget_Margin  \\\n",
      "count  1488.000000  1488.000000   1488.000000  1488.000000    1488.000000   \n",
      "mean   4240.624328   615.905914  41258.916667    92.849462     108.870968   \n",
      "std    2468.428239   239.107608    210.758973    71.850917      87.578587   \n",
      "min       3.000000   209.000000  40909.000000     0.000000    -140.000000   \n",
      "25%    2116.750000   386.000000  41083.500000    40.000000      60.000000   \n",
      "50%    4233.500000   650.000000  41259.500000    70.000000      90.000000   \n",
      "75%    6420.250000   813.500000  41433.500000   120.000000     140.000000   \n",
      "max    8484.000000   979.000000  41609.000000   340.000000     410.000000   \n",
      "\n",
      "       Budget_Profit  Budget_Sales         COGS    Inventory       Margin  \\\n",
      "count    1488.000000   1488.000000  1488.000000  1488.000000  1488.000000   \n",
      "mean       67.741935    201.720430   104.677419   873.169355   115.056452   \n",
      "std        78.047857    142.994198    73.252119   687.303592    92.998670   \n",
      "min      -230.000000     20.000000    16.000000   301.000000  -187.000000   \n",
      "25%        30.000000    100.000000    52.000000   459.500000    64.000000   \n",
      "50%        60.000000    160.000000    82.000000   612.000000    96.000000   \n",
      "75%       110.000000    250.000000   127.000000   994.000000   152.000000   \n",
      "max       310.000000    710.000000   311.000000  5121.000000   523.000000   \n",
      "\n",
      "         Marketing       Profit        Sales  Total_Expenses  \n",
      "count  1488.000000  1488.000000  1488.000000     1488.000000  \n",
      "mean     34.615591    71.068548   224.475806       56.498656  \n",
      "std      23.661820   104.005700   151.278904       28.293162  \n",
      "min       4.000000  -420.000000    41.000000       15.000000  \n",
      "25%      19.000000    22.000000   123.000000       38.000000  \n",
      "50%      27.000000    58.000000   182.000000       49.000000  \n",
      "75%      45.250000   127.500000   265.500000       71.000000  \n",
      "max     114.000000   536.000000   796.000000      147.000000  \n",
      "1920\n",
      "1488\n"
     ]
    }
   ],
   "source": [
    "mregular = major.loc[major.Type == 'Regular'] #data of non-decaf in a major market\n",
    "mdecaf = major.loc[major.Type == 'Decaf'] #data of decaf in a major market\n",
    "\n",
    "print(mregular.describe()) #print statistical details of data of non-decaf in a major market\n",
    "print(mdecaf.describe()) #print statistical details of data of decaf in a major market\n",
    "\n",
    "print(mregular.shape[0]) #number of non-decaf in a major market\n",
    "print(mdecaf.shape[0]) #number of decaf in a major market\n",
    "\n",
    "mregmeanM = mregular.mean()[10] #mean marketing of non-decaf in a major market\n",
    "mdecafmeanM = mdecaf.mean()[10] #mean marketing of decaf in a major market\n",
    "\n",
    "mregmeanS = mregular.mean()[12] #mean sales of non-decaf in a major market\n",
    "mdecafmeanS = mdecaf.mean()[12] #mean sales of decaf in a major market\n",
    "\n",
    "mregmeanP = mregular.mean()[11] #mean profit of non-decaf in a major market\n",
    "mdecafmeanP = mdecaf.mean()[11] #mean profit of decaf in a major market"
   ]
  },
  {
   "cell_type": "markdown",
   "id": "0f44905f",
   "metadata": {},
   "source": [
    "There are 1920 non-decaf in a major market.\n",
    "\n",
    "There are 1488 decaf in a major market."
   ]
  },
  {
   "cell_type": "markdown",
   "id": "d596b807",
   "metadata": {},
   "source": [
    "## Small Market"
   ]
  },
  {
   "cell_type": "code",
   "execution_count": 6,
   "id": "df350ddd",
   "metadata": {},
   "outputs": [
    {
     "name": "stdout",
     "output_type": "stream",
     "text": [
      "            Row_ID    Area_Code          Date  Budget_COGS  Budget_Margin  \\\n",
      "count  2880.000000  2880.000000   2880.000000  2880.000000    2880.000000   \n",
      "mean   4255.598264   561.190278  41258.916667    53.611111      73.291667   \n",
      "std    2445.775767   204.965138    210.724729    46.624305      60.896381   \n",
      "min      21.000000   203.000000  40909.000000     0.000000    -210.000000   \n",
      "25%    2141.000000   435.000000  41083.500000    20.000000      40.000000   \n",
      "50%    4258.000000   541.000000  41259.500000    40.000000      60.000000   \n",
      "75%    6369.250000   702.000000  41433.500000    60.000000      90.000000   \n",
      "max    8496.000000   985.000000  41609.000000   250.000000     340.000000   \n",
      "\n",
      "       Budget_Profit  Budget_Sales         COGS    Inventory       Margin  \\\n",
      "count    2880.000000   2880.000000  2880.000000  2880.000000  2880.000000   \n",
      "mean       37.458333    126.902778    66.290278   630.319444    78.694444   \n",
      "std        53.791936     96.766716    62.104891   760.582140    78.729763   \n",
      "min      -320.000000      0.000000     0.000000 -2248.000000  -302.000000   \n",
      "25%        20.000000     60.000000    34.000000   331.750000    43.000000   \n",
      "50%        30.000000    100.000000    48.000000   488.000000    66.000000   \n",
      "75%        52.500000    150.000000    65.000000   816.000000    89.000000   \n",
      "max       210.000000    590.000000   302.000000  8252.000000   392.000000   \n",
      "\n",
      "         Marketing       Profit        Sales  Total_Expenses  \n",
      "count  2880.000000  2880.000000  2880.000000     2880.000000  \n",
      "mean     26.456944    34.678472   148.650000       50.368056  \n",
      "std      24.494292    88.325624   124.094227       29.035879  \n",
      "min       0.000000  -638.000000    17.000000       10.000000  \n",
      "25%      11.000000     5.000000    80.000000       28.000000  \n",
      "50%      16.000000    26.000000   117.000000       45.000000  \n",
      "75%      36.000000    49.000000   157.500000       64.000000  \n",
      "max     120.000000   362.000000   716.000000      149.000000  \n",
      "            Row_ID    Area_Code          Date  Budget_COGS  Budget_Margin  \\\n",
      "count  2208.000000  2208.000000   2208.000000  2208.000000    2208.000000   \n",
      "mean   4249.756793   556.702899  41258.916667    61.467391      86.304348   \n",
      "std    2441.268817   209.236835    210.735868    43.791975      58.438538   \n",
      "min      23.000000   203.000000  40909.000000     0.000000      10.000000   \n",
      "25%    2139.750000   417.000000  41083.500000    30.000000      50.000000   \n",
      "50%    4259.500000   505.000000  41259.500000    50.000000      70.000000   \n",
      "75%    6351.250000   712.000000  41433.500000    80.000000     110.000000   \n",
      "max    8494.000000   985.000000  41609.000000   250.000000     350.000000   \n",
      "\n",
      "       Budget_Profit  Budget_Sales         COGS    Inventory       Margin  \\\n",
      "count    2208.000000   2208.000000  2208.000000  2208.000000  2208.000000   \n",
      "mean       51.485507    147.771739    70.485507   733.250000    89.610507   \n",
      "std        42.559309     98.806280    48.040496   327.734892    64.237965   \n",
      "min       -40.000000     10.000000     0.000000   187.000000    11.000000   \n",
      "25%        30.000000     80.000000    38.000000   494.000000    47.750000   \n",
      "50%        40.000000    120.000000    56.000000   727.000000    71.000000   \n",
      "75%        60.000000    190.000000    90.000000   885.250000   107.000000   \n",
      "max       250.000000    600.000000   295.000000  1898.000000   392.000000   \n",
      "\n",
      "         Marketing       Profit        Sales  Total_Expenses  \n",
      "count  2208.000000  2208.000000  2208.000000     2208.000000  \n",
      "mean     27.059783    48.795290   163.599638       49.322464  \n",
      "std      25.335270    57.635212   111.622523       30.623119  \n",
      "min       0.000000   -67.000000    23.000000       11.000000  \n",
      "25%      12.000000    18.000000    92.000000       26.000000  \n",
      "50%      19.000000    36.000000   129.000000       43.000000  \n",
      "75%      32.000000    61.000000   197.000000       60.250000  \n",
      "max     156.000000   362.000000   687.000000      190.000000  \n",
      "2880\n",
      "2208\n"
     ]
    }
   ],
   "source": [
    "sregular = small.loc[small.Type == 'Regular'] #data of non-decaf in a small market\n",
    "sdecaf = small.loc[small.Type == 'Decaf'] #data of decaf in a small market\n",
    "\n",
    "print(sregular.describe()) #print statistical details of data of non-decaf in a small market\n",
    "print(sdecaf.describe()) #print statistical details of data of decaf in a small market\n",
    "\n",
    "print(sregular.shape[0]) #number of non-decaf in a small market\n",
    "print(sdecaf.shape[0]) #number of decaf in a small market\n",
    "\n",
    "sregmeanM = sregular.mean()[10] #mean marketing of non-decaf in a small market\n",
    "sdecafmeanM = sdecaf.mean()[10] #mean marketing of decaf in a small market\n",
    "\n",
    "sregmeanS = sregular.mean()[12] #mean sales of non-decaf in a small market\n",
    "sdecafmeanS = sdecaf.mean()[12] #mean sales of decaf in a small market\n",
    "\n",
    "sregmeanP = sregular.mean()[11] #mean profit of non-decaf in a small market\n",
    "sdecafmeanP = sdecaf.mean()[11] #mean profit of decaf in a small market"
   ]
  },
  {
   "cell_type": "markdown",
   "id": "b7187a1d",
   "metadata": {},
   "source": [
    "There are 2880 non-decaf in a small market.\n",
    "\n",
    "There are 2208 decaf in a small market."
   ]
  },
  {
   "cell_type": "markdown",
   "id": "306cfd19",
   "metadata": {},
   "source": [
    "# Coffee Product Lines"
   ]
  },
  {
   "cell_type": "code",
   "execution_count": 7,
   "id": "3cf95075",
   "metadata": {},
   "outputs": [
    {
     "name": "stdout",
     "output_type": "stream",
     "text": [
      "['Beans' 'Leaves']\n",
      "            Row_ID    Area_Code          Date  Budget_COGS  Budget_Margin  \\\n",
      "count  4464.000000  4464.000000   4464.000000  4464.000000    4464.000000   \n",
      "mean   4245.082661   575.207437  41258.916667    84.086022     113.987455   \n",
      "std    2447.475608   223.792803    210.711744    74.849720     105.836640   \n",
      "min       1.000000   203.000000  40909.000000     0.000000     -90.000000   \n",
      "25%    2129.250000   414.000000  41083.500000    40.000000      60.000000   \n",
      "50%    4248.500000   563.000000  41259.500000    60.000000      80.000000   \n",
      "75%    6347.250000   754.000000  41433.500000   100.000000     140.000000   \n",
      "max    8496.000000   985.000000  41609.000000   450.000000     690.000000   \n",
      "\n",
      "       Budget_Profit  Budget_Sales         COGS    Inventory       Margin  \\\n",
      "count    4464.000000   4464.000000  4464.000000  4464.000000  4464.000000   \n",
      "mean       69.793907    198.073477    84.093190   714.024194   108.756272   \n",
      "std        91.372156    170.575749    66.846756   639.224993    98.507953   \n",
      "min      -260.000000     10.000000     0.000000 -3534.000000   -95.000000   \n",
      "25%        30.000000    100.000000    43.750000   422.000000    55.000000   \n",
      "50%        50.000000    140.000000    60.000000   611.000000    76.000000   \n",
      "75%        90.000000    230.000000    99.000000   927.250000   132.000000   \n",
      "max       560.000000   1140.000000   364.000000  4216.000000   613.000000   \n",
      "\n",
      "         Marketing       Profit        Sales  Total_Expenses  \n",
      "count  4464.000000  4464.000000  4464.000000     4464.000000  \n",
      "mean     32.070789    64.203853   197.053763       55.836918  \n",
      "std      27.779797   105.342969   158.868461       33.483848  \n",
      "min       0.000000  -392.000000    23.000000       10.000000  \n",
      "25%      14.000000    16.000000   104.000000       33.000000  \n",
      "50%      22.000000    40.000000   139.000000       47.000000  \n",
      "75%      41.000000    86.000000   230.000000       68.000000  \n",
      "max     156.000000   778.000000   912.000000      189.000000  \n",
      "            Row_ID    Area_Code          Date  Budget_COGS  Budget_Margin  \\\n",
      "count  4032.000000  4032.000000   4032.000000  4032.000000    4032.000000   \n",
      "mean   4252.283482   590.106151  41258.916667    64.583333      86.240079   \n",
      "std    2458.828735   217.898409    210.714274    53.314130      72.546958   \n",
      "min       4.000000   203.000000  40909.000000     0.000000    -210.000000   \n",
      "25%    2123.500000   425.000000  41083.500000    30.000000      40.000000   \n",
      "50%    4247.500000   585.000000  41259.500000    50.000000      70.000000   \n",
      "75%    6401.250000   773.000000  41433.500000    80.000000     120.000000   \n",
      "max    8492.000000   985.000000  41609.000000   260.000000     410.000000   \n",
      "\n",
      "       Budget_Profit  Budget_Sales         COGS    Inventory       Margin  \\\n",
      "count    4032.000000   4032.000000  4032.000000  4032.000000  4032.000000   \n",
      "mean       51.081349    150.823413    84.809524   788.526786    99.352183   \n",
      "std        62.495220    115.436318    67.691182   682.231139    89.244821   \n",
      "min      -320.000000      0.000000     0.000000   162.000000  -302.000000   \n",
      "25%        20.000000     80.000000    41.000000   449.000000    51.000000   \n",
      "50%        40.000000    110.000000    60.000000   638.000000    75.000000   \n",
      "75%        80.000000    190.000000   100.000000   897.000000   134.000000   \n",
      "max       310.000000    610.000000   311.000000  8252.000000   523.000000   \n",
      "\n",
      "         Marketing       Profit        Sales  Total_Expenses  \n",
      "count  4032.000000  4032.000000  4032.000000     4032.000000  \n",
      "mean     30.204365    57.658730   188.485615       52.100198  \n",
      "std      26.125129    97.411268   141.942542       30.933686  \n",
      "min       0.000000  -638.000000    17.000000       10.000000  \n",
      "25%      13.000000    17.000000    97.750000       32.000000  \n",
      "50%      22.000000    42.000000   137.000000       45.000000  \n",
      "75%      36.000000    99.000000   232.000000       63.000000  \n",
      "max     156.000000   536.000000   796.000000      190.000000  \n",
      "4464\n",
      "4032\n"
     ]
    }
   ],
   "source": [
    "product_lines = dframe.Product_Line.unique()\n",
    "print(product_lines) #print list of unique coffee product lines\n",
    "\n",
    "beans = dframe.loc[dframe.Product_Line == 'Beans'] #data of coffee\n",
    "leaves = dframe.loc[dframe.Product_Line == 'Leaves'] #data of tea\n",
    "\n",
    "print(beans.describe()) #print statistical details of data of coffee\n",
    "print(leaves.describe()) #print statistical details of data of tea\n",
    "\n",
    "print(beans.shape[0]) #number of coffee\n",
    "print(leaves.shape[0]) #number of tea\n",
    "\n",
    "beansmeanM = beans.mean()[10] #mean marketing of coffee\n",
    "leavesmeanM = leaves.mean()[10] #mean marketing of tea\n",
    "\n",
    "beansmeanS = beans.mean()[12] #mean sales of coffee\n",
    "leavesmeanS = leaves.mean()[12] #mean sales of tea\n",
    "\n",
    "beansmeanP = beans.mean()[11] #mean profit of coffee\n",
    "leavesmeanP = leaves.mean()[11] #mean profit of tea"
   ]
  },
  {
   "cell_type": "markdown",
   "id": "24b52133",
   "metadata": {},
   "source": [
    "There are 4464 coffee.\n",
    "\n",
    "There are 4032 tea."
   ]
  },
  {
   "cell_type": "markdown",
   "id": "88c75789",
   "metadata": {},
   "source": [
    "## Major Market"
   ]
  },
  {
   "cell_type": "code",
   "execution_count": 8,
   "id": "d9af9e37",
   "metadata": {},
   "outputs": [
    {
     "name": "stdout",
     "output_type": "stream",
     "text": [
      "            Row_ID    Area_Code          Date  Budget_COGS  Budget_Margin  \\\n",
      "count  1680.000000  1680.000000   1680.000000  1680.000000    1680.000000   \n",
      "mean   4240.185714   612.665476  41258.916667   138.238095     178.000000   \n",
      "std    2461.638817   243.582149    210.750875    92.293859     144.622241   \n",
      "min       1.000000   209.000000  40909.000000    30.000000     -90.000000   \n",
      "25%    2121.250000   361.000000  41083.500000    60.000000      80.000000   \n",
      "50%    4232.500000   630.500000  41259.500000   100.000000     140.000000   \n",
      "75%    6382.250000   815.500000  41433.500000   210.000000     260.000000   \n",
      "max    8490.000000   979.000000  41609.000000   450.000000     690.000000   \n",
      "\n",
      "       Budget_Profit  Budget_Sales         COGS    Inventory       Margin  \\\n",
      "count    1680.000000   1680.000000  1680.000000  1680.000000  1680.000000   \n",
      "mean      114.380952    316.238095   134.595238   950.061905   169.688095   \n",
      "std       132.942500    218.346464    79.576862   862.243450   133.213869   \n",
      "min      -260.000000     50.000000    34.000000 -3534.000000   -95.000000   \n",
      "25%        40.000000    150.000000    72.000000   541.000000    79.000000   \n",
      "50%       100.000000    240.000000   110.500000   788.500000   140.000000   \n",
      "75%       170.000000    460.000000   195.000000  1293.000000   239.000000   \n",
      "max       560.000000   1140.000000   364.000000  4216.000000   613.000000   \n",
      "\n",
      "         Marketing       Profit        Sales  Total_Expenses  \n",
      "count  1680.000000  1680.000000  1680.000000     1680.000000  \n",
      "mean     49.571429   114.215476   310.788095       75.715476  \n",
      "std      31.540282   153.808495   198.434481       37.786886  \n",
      "min      10.000000  -392.000000    61.000000       24.000000  \n",
      "25%      24.000000    33.000000   144.500000       46.000000  \n",
      "50%      40.000000    97.000000   245.000000       63.000000  \n",
      "75%      72.000000   182.000000   467.750000       96.000000  \n",
      "max     156.000000   778.000000   912.000000      189.000000  \n",
      "            Row_ID    Area_Code          Date  Budget_COGS  Budget_Margin  \\\n",
      "count  1728.000000  1728.000000   1728.000000  1728.000000    1728.000000   \n",
      "mean   4243.146991   620.560185  41258.916667    65.625000      90.208333   \n",
      "std    2472.249269   230.031651    210.749131    47.414477      62.090232   \n",
      "min       4.000000   209.000000  40909.000000     0.000000    -140.000000   \n",
      "25%    2115.250000   413.000000  41083.500000    30.000000      50.000000   \n",
      "50%    4231.000000   650.000000  41259.500000    50.000000      70.000000   \n",
      "75%    6421.250000   790.750000  41433.500000    80.000000     120.000000   \n",
      "max    8487.000000   979.000000  41609.000000   260.000000     410.000000   \n",
      "\n",
      "       Budget_Profit  Budget_Sales         COGS    Inventory       Margin  \\\n",
      "count    1728.000000   1728.000000  1728.000000  1728.000000  1728.000000   \n",
      "mean       60.069444    155.833333    83.724537   773.324074   102.141204   \n",
      "std        54.658977    100.104173    58.837498   510.870258    73.372753   \n",
      "min      -230.000000     20.000000    16.000000   301.000000  -187.000000   \n",
      "25%        30.000000     90.000000    48.000000   483.500000    62.000000   \n",
      "50%        50.000000    120.000000    66.000000   654.500000    80.000000   \n",
      "75%        90.000000    200.000000    99.000000   917.000000   136.250000   \n",
      "max       310.000000    610.000000   311.000000  5121.000000   523.000000   \n",
      "\n",
      "         Marketing       Profit        Sales  Total_Expenses  \n",
      "count  1728.000000  1728.000000  1728.000000     1728.000000  \n",
      "mean     26.460648    69.207176   189.906250       45.230324  \n",
      "std      19.845222    80.377828   120.722835       23.881370  \n",
      "min       4.000000  -420.000000    41.000000       15.000000  \n",
      "25%      15.000000    27.000000   113.750000       30.000000  \n",
      "50%      22.000000    53.000000   155.000000       40.000000  \n",
      "75%      29.000000   107.250000   234.250000       54.000000  \n",
      "max     114.000000   536.000000   796.000000      147.000000  \n",
      "1680\n",
      "1728\n"
     ]
    }
   ],
   "source": [
    "mbeans = major.loc[major.Product_Line == 'Beans'] #data of coffee in a major market\n",
    "mleaves = major.loc[major.Product_Line == 'Leaves'] #data of tea in a major market\n",
    "\n",
    "print(mbeans.describe()) #print statistical details of data of coffee in a major market\n",
    "print(mleaves.describe()) #print statistical details of data of tea in a major market\n",
    "\n",
    "print(mbeans.shape[0]) #number of coffee in a major market\n",
    "print(mleaves.shape[0]) #number of tea in a major market\n",
    "\n",
    "mbeansmeanM = mbeans.mean()[10] #mean marketing of coffee in a major market\n",
    "mleavesmeanM = mleaves.mean()[10] #mean marketing of tea in a major market\n",
    "\n",
    "mbeansmeanS = mbeans.mean()[12] #mean sales of coffee in a major market\n",
    "mleavesmeanS = mleaves.mean()[12] #mean sales of tea in a major market\n",
    "\n",
    "mbeansmeanP = mbeans.mean()[11] #mean profit of coffee in a major market\n",
    "mleavesmeanP = mleaves.mean()[11] #mean profit of tea in a major market"
   ]
  },
  {
   "cell_type": "markdown",
   "id": "06a4ee3c",
   "metadata": {},
   "source": [
    "There are 1680 coffee in a major market.\n",
    "\n",
    "There are 1728 tea in a major market."
   ]
  },
  {
   "cell_type": "markdown",
   "id": "b2c5443b",
   "metadata": {},
   "source": [
    "## Small Market"
   ]
  },
  {
   "cell_type": "code",
   "execution_count": 9,
   "id": "7a9a1cdd",
   "metadata": {},
   "outputs": [
    {
     "name": "stdout",
     "output_type": "stream",
     "text": [
      "            Row_ID    Area_Code          Date  Budget_COGS  Budget_Margin  \\\n",
      "count  2784.000000  2784.000000   2784.000000  2784.000000    2784.000000   \n",
      "mean   4248.037716   552.603448  41258.916667    51.408046      75.359195   \n",
      "std    2439.327553   207.757271    210.725991    31.733260      37.128521   \n",
      "min      21.000000   203.000000  40909.000000     0.000000      10.000000   \n",
      "25%    2142.750000   425.000000  41083.500000    30.000000      50.000000   \n",
      "50%    4258.500000   515.000000  41259.500000    50.000000      70.000000   \n",
      "75%    6337.750000   702.000000  41433.500000    70.000000      90.000000   \n",
      "max    8496.000000   985.000000  41609.000000   170.000000     230.000000   \n",
      "\n",
      "       Budget_Profit  Budget_Sales         COGS    Inventory       Margin  \\\n",
      "count    2784.000000   2784.000000  2784.000000  2784.000000  2784.000000   \n",
      "mean       42.887931    126.767241    53.617816   571.587644    71.987069   \n",
      "std        28.317162     66.199388    29.611409   390.905886    35.521370   \n",
      "min       -40.000000     10.000000     0.000000 -2248.000000    11.000000   \n",
      "25%        20.000000     80.000000    34.000000   380.000000    46.000000   \n",
      "50%        40.000000    120.000000    48.500000   575.000000    67.000000   \n",
      "75%        60.000000    160.000000    67.000000   821.250000    87.000000   \n",
      "max       140.000000    390.000000   181.000000  1898.000000   195.000000   \n",
      "\n",
      "         Marketing       Profit        Sales  Total_Expenses  \n",
      "count  2784.000000  2784.000000  2784.000000     2784.000000  \n",
      "mean     21.510057    34.024425   128.420977       43.841236  \n",
      "std      18.465064    33.206495    64.795282       23.538440  \n",
      "min       0.000000   -65.000000    23.000000       10.000000  \n",
      "25%      10.000000    13.000000    82.000000       25.000000  \n",
      "50%      16.000000    30.000000   119.000000       43.000000  \n",
      "75%      26.250000    48.000000   157.000000       55.250000  \n",
      "max     120.000000   181.000000   387.000000      150.000000  \n",
      "            Row_ID    Area_Code          Date  Budget_COGS  Budget_Margin  \\\n",
      "count  2304.000000  2304.000000   2304.000000  2304.000000    2304.000000   \n",
      "mean   4259.135851   567.265625  41258.916667    63.802083      83.263889   \n",
      "std    2449.230134   205.443390    210.733879    57.339683      79.375153   \n",
      "min      26.000000   203.000000  40909.000000     0.000000    -210.000000   \n",
      "25%    2138.500000   435.000000  41083.500000    20.000000      40.000000   \n",
      "50%    4258.500000   541.000000  41259.500000    40.000000      60.000000   \n",
      "75%    6399.250000   712.000000  41433.500000    80.000000     102.500000   \n",
      "max    8492.000000   985.000000  41609.000000   250.000000     350.000000   \n",
      "\n",
      "       Budget_Profit  Budget_Sales         COGS    Inventory       Margin  \\\n",
      "count    2304.000000   2304.000000  2304.000000  2304.000000  2304.000000   \n",
      "mean       44.340278    147.065972    85.623264   799.928819    97.260417   \n",
      "std        67.005282    125.604688    73.638321   786.545570    99.465623   \n",
      "min      -320.000000      0.000000     0.000000   162.000000  -302.000000   \n",
      "25%        10.000000     67.500000    37.000000   382.000000    46.000000   \n",
      "50%        30.000000    100.000000    55.500000   623.000000    71.000000   \n",
      "75%        60.000000    180.000000   104.000000   877.250000   130.000000   \n",
      "max       250.000000    600.000000   302.000000  8252.000000   392.000000   \n",
      "\n",
      "         Marketing       Profit        Sales  Total_Expenses  \n",
      "count  2304.000000  2304.000000  2304.000000     2304.000000  \n",
      "mean     33.012153    48.997396   187.420139       57.252604  \n",
      "std      29.679981   107.651740   155.991796       34.427108  \n",
      "min       0.000000  -638.000000    17.000000       10.000000  \n",
      "25%      12.000000    10.000000    87.750000       34.000000  \n",
      "50%      21.000000    33.000000   128.000000       47.000000  \n",
      "75%      42.000000    73.000000   227.000000       70.250000  \n",
      "max     156.000000   362.000000   716.000000      190.000000  \n",
      "2784\n",
      "2304\n"
     ]
    }
   ],
   "source": [
    "sbeans = small.loc[small.Product_Line == 'Beans'] #data of coffee in a small market\n",
    "sleaves = small.loc[small.Product_Line == 'Leaves'] #data of tea in a small market\n",
    "\n",
    "print(sbeans.describe()) #print statistical details of data of coffee in a small market\n",
    "print(sleaves.describe()) #print statistical details of data of tea in a small market\n",
    "\n",
    "print(sbeans.shape[0]) #number of coffee in a small market\n",
    "print(sleaves.shape[0]) #number of tea in a small market\n",
    "\n",
    "sbeansmeanM = sbeans.mean()[10] #mean marketing of coffee in a small market\n",
    "sleavesmeanM = sleaves.mean()[10] #mean marketing of tea in a small market\n",
    "\n",
    "sbeansmeanS = sbeans.mean()[12] #mean sales of coffee in a small market\n",
    "sleavesmeanS = sleaves.mean()[12] #mean sales of tea in a small market\n",
    "\n",
    "sbeansmeanP = sbeans.mean()[11] #mean profit of coffee in a small market\n",
    "sleavesmeanP = sleaves.mean()[11] #mean profit of tea in a small market"
   ]
  },
  {
   "cell_type": "markdown",
   "id": "dc2510a1",
   "metadata": {},
   "source": [
    "There are 2784 coffee in a small market.\n",
    "\n",
    "There are 2304 tea in a small market."
   ]
  },
  {
   "cell_type": "markdown",
   "id": "064613d3",
   "metadata": {},
   "source": [
    "# Coffee Product Types"
   ]
  },
  {
   "cell_type": "code",
   "execution_count": 10,
   "id": "7f601744",
   "metadata": {},
   "outputs": [
    {
     "name": "stdout",
     "output_type": "stream",
     "text": [
      "['Coffee' 'Espresso']\n",
      "['Tea' 'Herbal Tea']\n",
      "            Row_ID    Area_Code          Date  Budget_COGS  Budget_Margin  \\\n",
      "count  2112.000000  2112.000000   2112.000000  2112.000000    2112.000000   \n",
      "mean   4245.698864   584.530303  41258.916667    91.742424     124.753788   \n",
      "std    2452.542294   221.483301    210.738038    75.931568     119.155150   \n",
      "min       1.000000   203.000000  40909.000000     0.000000     -90.000000   \n",
      "25%    2130.000000   419.000000  41083.500000    50.000000      60.000000   \n",
      "50%    4248.500000   573.000000  41259.500000    70.000000      90.000000   \n",
      "75%    6352.500000   730.250000  41433.500000   100.000000     140.000000   \n",
      "max    8494.000000   985.000000  41609.000000   450.000000     690.000000   \n",
      "\n",
      "       Budget_Profit  Budget_Sales         COGS    Inventory       Margin  \\\n",
      "count    2112.000000   2112.000000  2112.000000  2112.000000  2112.000000   \n",
      "mean       79.431818    216.496212    85.886364   761.320076   115.125000   \n",
      "std       103.100486    179.705628    65.383686   696.865795   112.081852   \n",
      "min      -150.000000     10.000000    10.000000 -3534.000000   -67.000000   \n",
      "25%        30.000000    120.000000    46.000000   445.750000    56.000000   \n",
      "50%        50.000000    160.000000    65.000000   615.500000    78.000000   \n",
      "75%       100.000000    240.000000    97.250000   956.000000   132.000000   \n",
      "max       560.000000   1140.000000   364.000000  4216.000000   613.000000   \n",
      "\n",
      "         Marketing       Profit        Sales  Total_Expenses  \n",
      "count  2112.000000  2112.000000  2112.000000     2112.000000  \n",
      "mean     31.596591    70.722538   205.329545       56.841856  \n",
      "std      26.043766   118.807296   167.107381       32.839223  \n",
      "min       3.000000  -221.000000    23.000000       15.000000  \n",
      "25%      14.000000    17.000000   109.000000       37.000000  \n",
      "50%      24.000000    39.000000   146.500000       48.000000  \n",
      "75%      37.000000    91.000000   230.000000       64.000000  \n",
      "max     127.000000   778.000000   912.000000      178.000000  \n",
      "            Row_ID    Area_Code          Date  Budget_COGS  Budget_Margin  \\\n",
      "count  2352.000000  2352.000000   2352.000000  2352.000000    2352.000000   \n",
      "mean   4244.529337   566.835884  41258.916667    77.210884     104.319728   \n",
      "std    2443.438498   225.565324    210.732945    73.201398      91.202356   \n",
      "min       5.000000   203.000000  40909.000000     0.000000     -90.000000   \n",
      "25%    2129.250000   405.000000  41083.500000    30.000000      50.000000   \n",
      "50%    4249.500000   541.000000  41259.500000    50.000000      70.000000   \n",
      "75%    6341.250000   763.000000  41433.500000    90.000000     130.000000   \n",
      "max    8496.000000   985.000000  41609.000000   370.000000     520.000000   \n",
      "\n",
      "       Budget_Profit  Budget_Sales         COGS    Inventory       Margin  \\\n",
      "count    2352.000000   2352.000000  2352.000000  2352.000000  2352.000000   \n",
      "mean       61.139456    181.530612    82.482993   671.554422   103.037415   \n",
      "std        78.396700    160.181854    68.107414   579.497151    84.095621   \n",
      "min      -260.000000     30.000000     0.000000 -2248.000000   -95.000000   \n",
      "25%        20.000000     80.000000    40.750000   391.750000    53.750000   \n",
      "50%        40.000000    120.000000    55.000000   605.000000    74.000000   \n",
      "75%        80.000000    220.000000   100.000000   891.000000   132.000000   \n",
      "max       450.000000    890.000000   295.000000  3641.000000   526.000000   \n",
      "\n",
      "         Marketing       Profit        Sales  Total_Expenses  \n",
      "count  2352.000000  2352.000000  2352.000000     2352.000000  \n",
      "mean     32.496599    58.350340   189.622449       54.934524  \n",
      "std      29.250004    91.211132   150.736946       34.033986  \n",
      "min       0.000000  -392.000000    39.000000       10.000000  \n",
      "25%      12.000000    16.000000    95.000000       28.000000  \n",
      "50%      22.000000    40.000000   131.000000       46.000000  \n",
      "75%      45.000000    84.000000   229.250000       70.000000  \n",
      "max     156.000000   646.000000   815.000000      189.000000  \n",
      "            Row_ID    Area_Code          Date  Budget_COGS  Budget_Margin  \\\n",
      "count  1920.000000  1920.000000   1920.000000  1920.000000    1920.000000   \n",
      "mean   4258.158854   591.110417  41258.916667    59.520833      79.645833   \n",
      "std    2464.362632   214.916667    210.743030    53.772528      72.771957   \n",
      "min       4.000000   203.000000  40909.000000     0.000000    -210.000000   \n",
      "25%    2125.750000   435.000000  41083.500000    30.000000      40.000000   \n",
      "50%    4246.500000   603.000000  41259.500000    40.000000      60.000000   \n",
      "75%    6424.250000   760.000000  41433.500000    70.000000     110.000000   \n",
      "max    8487.000000   978.000000  41609.000000   250.000000     340.000000   \n",
      "\n",
      "       Budget_Profit  Budget_Sales         COGS    Inventory       Margin  \\\n",
      "count    1920.000000   1920.000000  1920.000000  1920.000000  1920.000000   \n",
      "mean       46.104167    139.166667    81.422917   792.397917    94.056250   \n",
      "std        65.994059    113.010504    71.817166   824.721054    94.814786   \n",
      "min      -320.000000      0.000000     0.000000   162.000000  -302.000000   \n",
      "25%        20.000000     70.000000    36.000000   449.000000    48.000000   \n",
      "50%        40.000000    100.000000    54.000000   622.500000    74.500000   \n",
      "75%        80.000000    170.000000    94.000000   854.500000   127.000000   \n",
      "max       210.000000    590.000000   302.000000  8252.000000   392.000000   \n",
      "\n",
      "         Marketing       Profit        Sales  Total_Expenses  \n",
      "count  1920.000000  1920.000000  1920.000000      1920.00000  \n",
      "mean     27.852083    55.193750   179.971875        49.18750  \n",
      "std      25.108685   109.126858   144.943971        30.05526  \n",
      "min       0.000000  -638.000000    17.000000        10.00000  \n",
      "25%      12.000000    15.000000    85.000000        27.00000  \n",
      "50%      19.000000    44.000000   130.000000        41.00000  \n",
      "75%      34.000000   103.000000   224.000000        58.00000  \n",
      "max     114.000000   362.000000   716.000000       147.00000  \n",
      "            Row_ID    Area_Code          Date  Budget_COGS  Budget_Margin  \\\n",
      "count  2112.000000  2112.000000   2112.000000  2112.000000    2112.000000   \n",
      "mean   4246.942235   589.193182  41258.916667    69.185606      92.234848   \n",
      "std    2454.358630   220.620993    210.738038    52.484458      71.835420   \n",
      "min       7.000000   203.000000  40909.000000     0.000000    -140.000000   \n",
      "25%    2122.750000   419.000000  41083.500000    30.000000      50.000000   \n",
      "50%    4249.000000   580.000000  41259.500000    50.000000      70.000000   \n",
      "75%    6376.250000   773.000000  41433.500000    90.000000     130.000000   \n",
      "max    8492.000000   985.000000  41609.000000   260.000000     410.000000   \n",
      "\n",
      "       Budget_Profit  Budget_Sales         COGS    Inventory       Margin  \\\n",
      "count    2112.000000   2112.000000  2112.000000  2112.000000  2112.000000   \n",
      "mean       55.606061    161.420455    87.888258   785.007576   104.166667   \n",
      "std        58.786175    116.617695    63.569615   520.036580    83.592766   \n",
      "min      -230.000000     20.000000    15.000000   190.000000  -187.000000   \n",
      "25%        30.000000     90.000000    46.000000   451.250000    56.000000   \n",
      "50%        40.000000    120.000000    65.000000   702.500000    76.500000   \n",
      "75%        80.000000    210.000000   108.250000   961.250000   139.000000   \n",
      "max       310.000000    610.000000   311.000000  5121.000000   523.000000   \n",
      "\n",
      "         Marketing       Profit        Sales  Total_Expenses  \n",
      "count  2112.000000  2112.000000  2112.000000     2112.000000  \n",
      "mean     32.342803    59.899621   196.225379       54.748106  \n",
      "std      26.843581    85.342031   138.739389       31.485186  \n",
      "min       4.000000  -420.000000    39.000000       15.000000  \n",
      "25%      15.000000    19.000000   110.000000       35.000000  \n",
      "50%      24.000000    40.000000   142.000000       46.000000  \n",
      "75%      39.000000    92.250000   246.250000       65.000000  \n",
      "max     156.000000   536.000000   796.000000      190.000000  \n",
      "2112\n",
      "2352\n",
      "1920\n",
      "2112\n"
     ]
    }
   ],
   "source": [
    "product_types = dframe.Product_Type.unique() #list of unique product types\n",
    "Beans = beans.Product_Type.unique()\n",
    "print(Beans) #print list of unique coffee product types\n",
    "Leaves = leaves.Product_Type.unique()\n",
    "print(Leaves) #print list of unique tea product types\n",
    "\n",
    "coffee = beans.loc[beans.Product_Type == 'Coffee'] #data of regular coffee\n",
    "espresso = beans.loc[beans.Product_Type == 'Espresso'] #data of espresso coffee\n",
    "tea = leaves.loc[leaves.Product_Type == 'Tea'] #data of tea\n",
    "herbal = leaves.loc[leaves.Product_Type == 'Herbal Tea'] #data of herbal tea\n",
    "\n",
    "print(coffee.describe()) #print statistical details of data of regular coffee\n",
    "print(espresso.describe()) #print statistical details of data of espresso coffee\n",
    "print(tea.describe()) #print statistical details of data of tea\n",
    "print(herbal.describe()) #print statistical details of data of herbal tea\n",
    "\n",
    "print(coffee.shape[0]) #number of regular coffee\n",
    "print(espresso.shape[0]) #number of espresso coffee\n",
    "print(tea.shape[0]) #number of tea\n",
    "print(herbal.shape[0]) #number of herbal tea\n",
    "\n",
    "coffeemeanM = coffee.mean()[10] #mean marketing of regular coffee\n",
    "espmeanM = espresso.mean()[10] #mean marketing of espresso coffee\n",
    "teameanM = tea.mean()[10] #mean marketing of tea\n",
    "herbalmeanM = herbal.mean()[10] #mean marketing of herbal tea\n",
    "\n",
    "coffeemeanS = coffee.mean()[12] #mean sales of regular coffee\n",
    "espmeanS = espresso.mean()[12] #mean sales of espresso coffee\n",
    "teameanS = tea.mean()[12] #mean sales of tea\n",
    "herbalmeanS = herbal.mean()[12] #mean sales of herbal tea\n",
    "\n",
    "coffeemeanP = coffee.mean()[11] #mean profit of regular coffee\n",
    "espmeanP = espresso.mean()[11] #mean profit of espresso coffee\n",
    "teameanP = tea.mean()[11] #mean profit of tea\n",
    "herbalmeanP = herbal.mean()[11] #mean profit of herbal tea"
   ]
  },
  {
   "cell_type": "markdown",
   "id": "8d0f5197",
   "metadata": {},
   "source": [
    "In terms of coffee:\n",
    "\n",
    "There are 2112 regular coffee.\n",
    "\n",
    "There are 2352 espresso coffee.\n",
    "\n",
    "\n",
    "\n",
    "In terms of tea:\n",
    "\n",
    "There are 1920 regular tea.\n",
    "\n",
    "There are 2112 herbal tea."
   ]
  },
  {
   "cell_type": "markdown",
   "id": "caa6bac4",
   "metadata": {},
   "source": [
    "## Major Market"
   ]
  },
  {
   "cell_type": "code",
   "execution_count": 11,
   "id": "5af5e524",
   "metadata": {},
   "outputs": [
    {
     "name": "stdout",
     "output_type": "stream",
     "text": [
      "            Row_ID   Area_Code          Date  Budget_COGS  Budget_Margin  \\\n",
      "count   816.000000  816.000000    816.000000   816.000000     816.000000   \n",
      "mean   4240.328431  630.757353  41258.916667   138.725490     185.686275   \n",
      "std    2466.849554  241.746097    210.817359    99.329498     167.841642   \n",
      "min       1.000000  209.000000  40909.000000    30.000000     -90.000000   \n",
      "25%    2122.000000  413.000000  41083.500000    60.000000      70.000000   \n",
      "50%    4232.500000  682.000000  41259.500000   100.000000     140.000000   \n",
      "75%    6383.250000  821.000000  41433.500000   192.500000     290.000000   \n",
      "max    8490.000000  979.000000  41609.000000   450.000000     690.000000   \n",
      "\n",
      "       Budget_Profit  Budget_Sales        COGS    Inventory      Margin  \\\n",
      "count     816.000000    816.000000  816.000000   816.000000  816.000000   \n",
      "mean      127.794118    324.411765  129.651961   941.303922  177.622549   \n",
      "std       149.622139    240.190409   82.718483  1036.595260  155.039895   \n",
      "min      -150.000000     80.000000   34.000000 -3534.000000  -67.000000   \n",
      "25%        40.000000    140.000000   66.250000   528.500000   71.750000   \n",
      "50%       100.000000    240.000000  104.000000   782.500000  138.000000   \n",
      "75%       190.000000    442.500000  162.000000  1172.750000  252.250000   \n",
      "max       560.000000   1140.000000  364.000000  4216.000000  613.000000   \n",
      "\n",
      "        Marketing      Profit       Sales  Total_Expenses  \n",
      "count  816.000000  816.000000  816.000000      816.000000  \n",
      "mean    43.524510  130.220588  313.718137       70.566176  \n",
      "std     28.042639  170.826315  217.027959       37.993484  \n",
      "min     10.000000 -221.000000   84.000000       24.000000  \n",
      "25%     25.000000   33.000000  134.750000       41.000000  \n",
      "50%     34.000000  105.000000  236.500000       59.000000  \n",
      "75%     54.000000  192.500000  463.500000       91.500000  \n",
      "max    127.000000  778.000000  912.000000      178.000000  \n",
      "            Row_ID   Area_Code          Date  Budget_COGS  Budget_Margin  \\\n",
      "count   864.000000  864.000000    864.000000   864.000000     864.000000   \n",
      "mean   4240.050926  595.578704  41258.916667   137.777778     170.740741   \n",
      "std    2458.136404  244.214565    210.810174    85.172671     118.235021   \n",
      "min       5.000000  209.000000  40909.000000    30.000000     -90.000000   \n",
      "25%    2121.250000  347.000000  41083.500000    70.000000      90.000000   \n",
      "50%    4233.000000  617.000000  41259.500000   110.000000     140.000000   \n",
      "75%    6362.250000  807.750000  41433.500000   212.500000     240.000000   \n",
      "max    8489.000000  979.000000  41609.000000   370.000000     520.000000   \n",
      "\n",
      "       Budget_Profit  Budget_Sales        COGS    Inventory      Margin  \\\n",
      "count     864.000000    864.000000  864.000000   864.000000  864.000000   \n",
      "mean      101.712963    308.518519  139.263889   958.333333  162.194444   \n",
      "std       113.633066    195.316256   76.245501   656.911055  108.209270   \n",
      "min      -260.000000     50.000000   37.000000 -1239.000000  -95.000000   \n",
      "25%        40.000000    150.000000   75.750000   553.250000  101.750000   \n",
      "50%        90.000000    240.000000  121.000000   847.500000  145.000000   \n",
      "75%       170.000000    470.000000  228.000000  1319.000000  239.000000   \n",
      "max       450.000000    890.000000  295.000000  3641.000000  526.000000   \n",
      "\n",
      "        Marketing      Profit       Sales  Total_Expenses  \n",
      "count  864.000000  864.000000  864.000000      864.000000  \n",
      "mean    55.282407   99.099537  308.020833       80.578704  \n",
      "std     33.548828  134.149902  179.195012       36.959008  \n",
      "min     14.000000 -392.000000   61.000000       25.000000  \n",
      "25%     24.000000   34.500000  176.750000       53.000000  \n",
      "50%     47.000000   86.500000  250.000000       72.000000  \n",
      "75%     77.000000  165.000000  478.000000      110.000000  \n",
      "max    156.000000  646.000000  815.000000      189.000000  \n",
      "            Row_ID   Area_Code          Date  Budget_COGS  Budget_Margin  \\\n",
      "count   816.000000  816.000000    816.000000   816.000000     816.000000   \n",
      "mean   4246.273284  621.492647  41258.916667    56.323529      90.196078   \n",
      "std    2477.153957  223.894870    210.817359    28.417799      41.869922   \n",
      "min       4.000000  209.000000  40909.000000    10.000000      30.000000   \n",
      "25%    2117.500000  418.000000  41083.500000    30.000000      60.000000   \n",
      "50%    4229.500000  646.000000  41259.500000    50.000000      80.000000   \n",
      "75%    6424.250000  781.000000  41433.500000    80.000000     120.000000   \n",
      "max    8487.000000  978.000000  41609.000000   130.000000     210.000000   \n",
      "\n",
      "       Budget_Profit  Budget_Sales        COGS    Inventory      Margin  \\\n",
      "count     816.000000    816.000000  816.000000   816.000000  816.000000   \n",
      "mean       63.725490    146.519608   69.642157   695.098039   99.637255   \n",
      "std        36.102691     69.917705   29.658744   186.098200   43.669655   \n",
      "min        10.000000     40.000000   16.000000   325.000000   25.000000   \n",
      "25%        40.000000     90.000000   48.750000   558.750000   63.750000   \n",
      "50%        55.000000    130.000000   68.000000   662.000000  101.500000   \n",
      "75%        90.000000    200.000000   91.000000   856.250000  133.250000   \n",
      "max       170.000000    340.000000  141.000000  1054.000000  195.000000   \n",
      "\n",
      "        Marketing      Profit       Sales  Total_Expenses  \n",
      "count  816.000000  816.000000  816.000000      816.000000  \n",
      "mean    20.470588   75.416667  172.941176       37.730392  \n",
      "std      8.709863   47.254673   74.333465       13.530093  \n",
      "min      4.000000    6.000000   41.000000       15.000000  \n",
      "25%     14.000000   35.750000  113.750000       26.000000  \n",
      "50%     21.500000   70.000000  174.500000       37.000000  \n",
      "75%     26.000000  108.250000  228.500000       49.000000  \n",
      "max     43.000000  199.000000  341.000000       69.000000  \n",
      "            Row_ID   Area_Code          Date  Budget_COGS  Budget_Margin  \\\n",
      "count   912.000000  912.000000    912.000000   912.000000     912.000000   \n",
      "mean   4240.349781  619.725877  41258.916667    73.947368      90.219298   \n",
      "std    2469.208742  235.506408    210.803746    58.245379      75.762905   \n",
      "min       7.000000  209.000000  40909.000000     0.000000    -140.000000   \n",
      "25%    2114.500000  407.750000  41083.500000    30.000000      50.000000   \n",
      "50%    4232.500000  661.000000  41259.500000    50.000000      70.000000   \n",
      "75%    6388.500000  805.000000  41433.500000   100.000000     130.000000   \n",
      "max    8484.000000  979.000000  41609.000000   260.000000     410.000000   \n",
      "\n",
      "       Budget_Profit  Budget_Sales        COGS    Inventory      Margin  \\\n",
      "count     912.000000    912.000000  912.000000   912.000000  912.000000   \n",
      "mean       56.798246    164.166667   96.324561   843.315789  104.381579   \n",
      "std        66.894833    120.316846   73.750819   673.344114   92.135771   \n",
      "min      -230.000000     20.000000   16.000000   301.000000 -187.000000   \n",
      "25%        30.000000     90.000000   48.000000   424.000000   60.750000   \n",
      "50%        40.000000    115.000000   61.500000   612.000000   74.500000   \n",
      "75%       100.000000    210.000000  123.000000   986.500000  145.000000   \n",
      "max       310.000000    610.000000  311.000000  5121.000000  523.000000   \n",
      "\n",
      "        Marketing      Profit       Sales  Total_Expenses  \n",
      "count  912.000000  912.000000  912.000000      912.000000  \n",
      "mean    31.820175   63.651316  205.085526       51.940789  \n",
      "std     24.856261  100.917499  148.985075       28.669333  \n",
      "min      4.000000 -420.000000   41.000000       15.000000  \n",
      "25%     16.000000   21.000000  113.500000       36.000000  \n",
      "50%     24.000000   42.000000  146.000000       45.000000  \n",
      "75%     40.000000  106.250000  254.000000       61.250000  \n",
      "max    114.000000  536.000000  796.000000      147.000000  \n",
      "816\n",
      "864\n",
      "816\n",
      "912\n"
     ]
    }
   ],
   "source": [
    "mcoffee = mbeans.loc[mbeans.Product_Type == 'Coffee'] #data of regular coffee in a major market\n",
    "mespresso = mbeans.loc[mbeans.Product_Type == 'Espresso'] #data of espresso coffee in a major market\n",
    "mtea = mleaves.loc[mleaves.Product_Type == 'Tea'] #data of tea in a major market\n",
    "mherbal = mleaves.loc[mleaves.Product_Type == 'Herbal Tea'] #data of herbal tea in a major market\n",
    "\n",
    "print(mcoffee.describe()) #print statistical details of data of regular coffee in a major market\n",
    "print(mespresso.describe()) #print statistical details of data of espresso coffee in a major market\n",
    "print(mtea.describe()) #print statistical details of data of tea in a major market\n",
    "print(mherbal.describe()) #print statistical details of data of herbal tea in a major market\n",
    "\n",
    "print(mcoffee.shape[0]) #number of regular coffee in a major market\n",
    "print(mespresso.shape[0]) #number of espresso coffee in a major market\n",
    "print(mtea.shape[0]) #number of tea in a major market\n",
    "print(mherbal.shape[0]) #number of herbal tea in a major market\n",
    "\n",
    "mcoffeemeanM = mcoffee.mean()[10] #mean marketing of regular coffee in a major market\n",
    "mespmeanM = mespresso.mean()[10] #mean marketing of espresso coffee in a major market\n",
    "mteameanM = mtea.mean()[10] #mean marketing of tea in a major market\n",
    "mherbalmeanM = mherbal.mean()[10] #mean marketing of herbal tea in a major market\n",
    "\n",
    "mcoffeemeanS = mcoffee.mean()[12] #mean sales of regular coffee in a major market\n",
    "mespmeanS = mespresso.mean()[12] #mean sales of espresso coffee in a major market\n",
    "mteameanS = mtea.mean()[12] #mean sales of tea in a major market\n",
    "mherbalmeanS = mherbal.mean()[12] #mean sales of herbal tea in a major market\n",
    "\n",
    "mcoffeemeanP = mcoffee.mean()[11] #mean profit of regular coffee in a major market\n",
    "mespmeanP = mespresso.mean()[11] #mean profit of espresso coffee in a major market\n",
    "mteameanP = mtea.mean()[11] #mean profit of tea in a major market\n",
    "mherbalmeanP = mherbal.mean()[11] #mean profit of herbal tea in a major market"
   ]
  },
  {
   "cell_type": "markdown",
   "id": "9c802c9b",
   "metadata": {},
   "source": [
    "In terms of coffee:\n",
    "\n",
    "There are 816 regular coffee in a major market.\n",
    "\n",
    "There are 864 espresso coffee in a major market.\n",
    "\n",
    "\n",
    "\n",
    "In terms of tea:\n",
    "\n",
    "There are 816 regular tea in a major market.\n",
    "\n",
    "There are 912 herbal tea in a major market."
   ]
  },
  {
   "cell_type": "markdown",
   "id": "7cc869d1",
   "metadata": {},
   "source": [
    "## Small Market"
   ]
  },
  {
   "cell_type": "code",
   "execution_count": 12,
   "id": "0a40fe2b",
   "metadata": {},
   "outputs": [
    {
     "name": "stdout",
     "output_type": "stream",
     "text": [
      "            Row_ID    Area_Code          Date  Budget_COGS  Budget_Margin  \\\n",
      "count  1296.000000  1296.000000   1296.000000  1296.000000    1296.000000   \n",
      "mean   4249.080247   555.424383  41258.916667    62.160494      86.388889   \n",
      "std    2444.439352   202.462791    210.769473    30.374123      40.033770   \n",
      "min      21.000000   203.000000  40909.000000     0.000000      10.000000   \n",
      "25%    2143.500000   425.000000  41083.500000    40.000000      60.000000   \n",
      "50%    4258.500000   515.000000  41259.500000    60.000000      80.000000   \n",
      "75%    6338.500000   702.000000  41433.500000    80.000000     110.000000   \n",
      "max    8494.000000   985.000000  41609.000000   160.000000     230.000000   \n",
      "\n",
      "       Budget_Profit  Budget_Sales         COGS    Inventory       Margin  \\\n",
      "count    1296.000000   1296.000000  1296.000000  1296.000000  1296.000000   \n",
      "mean       48.981481    148.549383    58.330247   647.996914    75.774691   \n",
      "std        28.930159     66.158070    26.376757   286.543922    36.598734   \n",
      "min       -40.000000     10.000000    10.000000   190.000000    11.000000   \n",
      "25%        30.000000    100.000000    39.000000   426.500000    49.000000   \n",
      "50%        50.000000    140.000000    53.000000   595.000000    72.000000   \n",
      "75%        70.000000    190.000000    77.000000   851.750000    93.000000   \n",
      "max       140.000000    390.000000   133.000000  1898.000000   195.000000   \n",
      "\n",
      "        Marketing       Profit        Sales  Total_Expenses  \n",
      "count  1296.00000  1296.000000  1296.000000     1296.000000  \n",
      "mean     24.08642    33.260802   137.084877       48.200617  \n",
      "std      21.55611    31.764892    61.760808       25.613761  \n",
      "min       3.00000   -65.000000    23.000000       15.000000  \n",
      "25%      13.00000    14.750000    93.000000       30.000000  \n",
      "50%      18.00000    30.000000   129.000000       45.000000  \n",
      "75%      27.25000    47.000000   167.250000       58.000000  \n",
      "max     120.00000   181.000000   347.000000      150.000000  \n",
      "            Row_ID    Area_Code          Date  Budget_COGS  Budget_Margin  \\\n",
      "count  1488.000000  1488.000000   1488.000000  1488.000000    1488.000000   \n",
      "mean   4247.129704   550.146505  41258.916667    42.043011      65.752688   \n",
      "std    2435.688260   212.298381    210.758973    29.877459      31.398227   \n",
      "min      24.000000   203.000000  40909.000000     0.000000      20.000000   \n",
      "25%    2142.750000   423.000000  41083.500000    20.000000      40.000000   \n",
      "50%    4259.000000   505.000000  41259.500000    40.000000      60.000000   \n",
      "75%    6328.750000   702.000000  41433.500000    50.000000      80.000000   \n",
      "max    8496.000000   985.000000  41609.000000   170.000000     180.000000   \n",
      "\n",
      "       Budget_Profit  Budget_Sales         COGS    Inventory       Margin  \\\n",
      "count    1488.000000   1488.000000  1488.000000  1488.000000  1488.000000   \n",
      "mean       37.580645    107.795699    49.513441   505.037634    68.688172   \n",
      "std        26.670047     60.136417    31.605884   452.726311    34.227996   \n",
      "min       -10.000000     30.000000     0.000000 -2248.000000    24.000000   \n",
      "25%        20.000000     60.000000    31.000000   334.750000    43.000000   \n",
      "50%        30.000000    100.000000    46.000000   559.000000    63.000000   \n",
      "75%        50.000000    130.000000    59.250000   806.250000    81.250000   \n",
      "max       120.000000    350.000000   181.000000  1319.000000   195.000000   \n",
      "\n",
      "         Marketing       Profit        Sales  Total_Expenses  \n",
      "count  1488.000000  1488.000000  1488.000000     1488.000000  \n",
      "mean     19.266129    34.689516   120.875000       40.044355  \n",
      "std      14.920786    34.409756    66.432641       20.847205  \n",
      "min       0.000000   -24.000000    39.000000       10.000000  \n",
      "25%       9.000000    12.000000    75.000000       20.000000  \n",
      "50%      15.000000    29.500000   111.500000       40.500000  \n",
      "75%      25.000000    48.000000   145.000000       53.250000  \n",
      "max      68.000000   180.000000   387.000000      103.000000  \n",
      "            Row_ID    Area_Code          Date  Budget_COGS  Budget_Margin  \\\n",
      "count  1104.000000  1104.000000   1104.000000  1104.000000    1104.000000   \n",
      "mean   4266.943841   568.653986  41258.916667    61.884058      71.847826   \n",
      "std    2455.952561   205.261679    210.783627    66.488679      88.175988   \n",
      "min      28.000000   203.000000  40909.000000     0.000000    -210.000000   \n",
      "25%    2140.000000   435.000000  41083.500000    20.000000      40.000000   \n",
      "50%    4258.500000   563.000000  41259.500000    30.000000      50.000000   \n",
      "75%    6421.000000   712.000000  41433.500000    70.000000      82.500000   \n",
      "max    8478.000000   971.000000  41609.000000   250.000000     340.000000   \n",
      "\n",
      "       Budget_Profit  Budget_Sales         COGS    Inventory       Margin  \\\n",
      "count    1104.000000   1104.000000  1104.000000  1104.000000  1104.000000   \n",
      "mean       33.079710    133.731884    90.130435   864.315217    89.931159   \n",
      "std        78.832879    136.154360    90.248841  1070.318023   119.127497   \n",
      "min      -320.000000      0.000000     0.000000   162.000000  -302.000000   \n",
      "25%        10.000000     50.000000    34.000000   324.000000    43.000000   \n",
      "50%        30.000000     80.000000    46.000000   551.000000    63.000000   \n",
      "75%        60.000000    132.500000   104.250000   851.000000   120.000000   \n",
      "max       210.000000    590.000000   302.000000  8252.000000   392.000000   \n",
      "\n",
      "         Marketing       Profit        Sales  Total_Expenses  \n",
      "count  1104.000000  1104.000000  1104.000000     1104.000000  \n",
      "mean     33.307971    40.246377   185.168478       57.655797  \n",
      "std      31.155960   136.171140   180.013092       35.601160  \n",
      "min       0.000000  -638.000000    17.000000       10.000000  \n",
      "25%      11.000000     1.000000    74.000000       35.000000  \n",
      "50%      15.000000    25.000000   107.000000       45.000000  \n",
      "75%      57.000000    76.750000   210.000000       85.000000  \n",
      "max     114.000000   362.000000   716.000000      147.000000  \n",
      "            Row_ID    Area_Code          Date  Budget_COGS  Budget_Margin  \\\n",
      "count  1200.000000  1200.000000   1200.000000  1200.000000    1200.000000   \n",
      "mean   4251.952500   565.988333  41258.916667    65.566667      93.766667   \n",
      "std    2444.031306   205.687711    210.775983    47.348500      68.693118   \n",
      "min      26.000000   203.000000  40909.000000    10.000000      10.000000   \n",
      "25%    2137.750000   435.000000  41083.500000    30.000000      50.000000   \n",
      "50%    4258.500000   515.000000  41259.500000    50.000000      70.000000   \n",
      "75%    6364.250000   712.000000  41433.500000    90.000000     130.000000   \n",
      "max    8492.000000   985.000000  41609.000000   250.000000     350.000000   \n",
      "\n",
      "       Budget_Profit  Budget_Sales         COGS    Inventory       Margin  \\\n",
      "count    1200.000000   1200.000000  1200.000000  1200.000000  1200.000000   \n",
      "mean       54.700000    159.333333    81.476667   740.693333   104.003333   \n",
      "std        51.792651    113.732148    53.730084   356.515861    76.504035   \n",
      "min       -30.000000     30.000000    15.000000   190.000000    11.000000   \n",
      "25%        20.000000     87.500000    44.000000   484.000000    53.000000   \n",
      "50%        40.000000    120.000000    65.000000   721.000000    77.000000   \n",
      "75%        62.500000    210.000000   104.000000   915.750000   135.000000   \n",
      "max       250.000000    600.000000   295.000000  1898.000000   392.000000   \n",
      "\n",
      "         Marketing       Profit        Sales  Total_Expenses  \n",
      "count  1200.000000  1200.000000  1200.000000     1200.000000  \n",
      "mean     32.740000    57.048333   189.491667       56.881667  \n",
      "std      28.264432    71.177627   130.075900       33.321058  \n",
      "min       4.000000   -67.000000    39.000000       15.000000  \n",
      "25%      14.000000    17.000000   107.000000       32.750000  \n",
      "50%      25.000000    38.500000   141.000000       50.000000  \n",
      "75%      39.000000    70.000000   238.250000       65.000000  \n",
      "max     156.000000   362.000000   687.000000      190.000000  \n",
      "1296\n",
      "1488\n",
      "1104\n",
      "1200\n"
     ]
    }
   ],
   "source": [
    "scoffee = sbeans.loc[sbeans.Product_Type == 'Coffee'] #data of regular coffee\n",
    "sespresso = sbeans.loc[sbeans.Product_Type == 'Espresso'] #data of espresso coffee\n",
    "stea = sleaves.loc[sleaves.Product_Type == 'Tea'] #data of tea\n",
    "sherbal = sleaves.loc[sleaves.Product_Type == 'Herbal Tea'] #data of herbal tea\n",
    "\n",
    "print(scoffee.describe()) #print statistical details of data of regular coffee\n",
    "print(sespresso.describe()) #print statistical details of data of espresso coffee\n",
    "print(stea.describe()) #print statistical details of data of tea\n",
    "print(sherbal.describe()) #print statistical details of data of herbal tea\n",
    "\n",
    "print(scoffee.shape[0]) #number of regular coffee\n",
    "print(sespresso.shape[0]) #number of espresso coffee\n",
    "print(stea.shape[0]) #number of tea\n",
    "print(sherbal.shape[0]) #number of herbal tea\n",
    "\n",
    "scoffeemeanM = scoffee.mean()[10] #mean marketing of regular coffee\n",
    "sespmeanM = sespresso.mean()[10] #mean marketing of espresso coffee\n",
    "steameanM = stea.mean()[10] #mean marketing of tea\n",
    "sherbalmeanM = sherbal.mean()[10] #mean marketing of herbal tea\n",
    "\n",
    "scoffeemeanS = scoffee.mean()[12] #mean sales of regular coffee\n",
    "sespmeanS = sespresso.mean()[12] #mean sales of espresso coffee\n",
    "steameanS = stea.mean()[12] #mean sales of tea\n",
    "sherbalmeanS = sherbal.mean()[12] #mean sales of herbal tea\n",
    "\n",
    "scoffeemeanP = scoffee.mean()[11] #mean profit of regular coffee\n",
    "sespmeanP = sespresso.mean()[11] #mean profit of espresso coffee\n",
    "steameanP = stea.mean()[11] #mean profit of tea\n",
    "sherbalmeanP = sherbal.mean()[11] #mean profit of herbal tea"
   ]
  },
  {
   "cell_type": "markdown",
   "id": "438958fb",
   "metadata": {},
   "source": [
    "In terms of coffee:\n",
    "\n",
    "There are 1296 regular coffee in a small market.\n",
    "\n",
    "There are 1488 espresso coffee in a small market.\n",
    "\n",
    "\n",
    "\n",
    "In terms of tea:\n",
    "\n",
    "There are 1104 regular tea in a small market.\n",
    "\n",
    "There are 1200 herbal tea in a small market."
   ]
  },
  {
   "cell_type": "markdown",
   "id": "d49457aa",
   "metadata": {},
   "source": [
    "# Analysis"
   ]
  },
  {
   "cell_type": "code",
   "execution_count": 13,
   "id": "56dba27c",
   "metadata": {},
   "outputs": [
    {
     "name": "stdout",
     "output_type": "stream",
     "text": [
      "['Major Market' 'Small Market']\n",
      "['Regular' 'Decaf']\n",
      "['Beans' 'Leaves']\n",
      "['Coffee' 'Tea' 'Espresso' 'Herbal Tea']\n",
      "['Coffee' 'Espresso']\n",
      "['Tea' 'Herbal Tea']\n"
     ]
    }
   ],
   "source": [
    "M = np.array(dframe['Marketing']) #convert marketing column into array\n",
    "S = np.array(dframe['Sales']) #convert sales column into array\n",
    "P = np.array(dframe['Profit']) #convert profit column into array\n",
    "m = np.reshape(M, (dframe.shape[0], 1)) #convert marketing column from 1 dimension to 2 dimensions\n",
    "s = np.reshape(S, (dframe.shape[0], 1)) #convert sales column from 1 dimension to 2 dimensions\n",
    "p = np.reshape(P, (dframe.shape[0], 1)) #convert profit column from 1 dimension to 2 dimensions\n",
    "\n",
    "print(market_sizes)\n",
    "marketmeanM = [majormeanM, smallmeanM]\n",
    "marketmeanS = [majormeanS, smallmeanS]\n",
    "marketmeanP = [majormeanP, smallmeanP]\n",
    "\n",
    "print(types)\n",
    "typemeanM = [regmeanM, decafmeanM]\n",
    "typemeanS = [regmeanS, decafmeanS]\n",
    "typemeanP = [regmeanP, decafmeanP]\n",
    "\n",
    "mtypemeanM = [mregmeanM, mdecafmeanM]\n",
    "mtypemeanS = [mregmeanS, mdecafmeanS]\n",
    "mtypemeanP = [mregmeanP, mdecafmeanP]\n",
    "\n",
    "stypemeanM = [sregmeanM, sdecafmeanM]\n",
    "stypemeanS = [sregmeanS, sdecafmeanS]\n",
    "stypemeanP = [sregmeanP, sdecafmeanP]\n",
    "\n",
    "print(product_lines)\n",
    "linemeanM = [beansmeanM, leavesmeanM]\n",
    "linemeanS = [beansmeanS, leavesmeanS]\n",
    "linemeanP = [beansmeanP, leavesmeanP]\n",
    "\n",
    "mlinemeanM = [mbeansmeanM, mleavesmeanM]\n",
    "mlinemeanS = [mbeansmeanS, mleavesmeanS]\n",
    "mlinemeanP = [mbeansmeanP, mleavesmeanP]\n",
    "\n",
    "slinemeanM = [sbeansmeanM, sleavesmeanM]\n",
    "slinemeanS = [sbeansmeanS, sleavesmeanS]\n",
    "slinemeanP = [sbeansmeanP, sleavesmeanP]\n",
    "\n",
    "print(product_types)\n",
    "prodtypemeanM = [coffeemeanM, teameanM, espmeanM, herbalmeanM]\n",
    "prodtypemeanS = [coffeemeanS, teameanS, espmeanS, herbalmeanS]\n",
    "prodtypemeanP = [coffeemeanP, teameanP, espmeanP, herbalmeanP]\n",
    "\n",
    "mprodtypemeanM = [mcoffeemeanM, mteameanM, mespmeanM, mherbalmeanM]\n",
    "mprodtypemeanS = [mcoffeemeanS, mteameanS, mespmeanS, mherbalmeanS]\n",
    "mprodtypemeanP = [mcoffeemeanP, mteameanP, mespmeanP, mherbalmeanP]\n",
    "\n",
    "sprodtypemeanM = [scoffeemeanM, steameanM, sespmeanM, sherbalmeanM]\n",
    "sprodtypemeanS = [scoffeemeanS, steameanS, sespmeanS, sherbalmeanS]\n",
    "sprodtypemeanP = [scoffeemeanP, steameanP, sespmeanP, sherbalmeanP]\n",
    "\n",
    "print(Beans)\n",
    "BeanmeanM = [coffeemeanM, espmeanM]\n",
    "BeanmeanS = [coffeemeanS, espmeanS]\n",
    "BeanmeanP = [coffeemeanP, espmeanP]\n",
    "\n",
    "mbeanmeanM = [mcoffeemeanM, mespmeanM]\n",
    "mbeanmeanS = [mcoffeemeanS, mespmeanS]\n",
    "mbeanmeanP = [mcoffeemeanP, mespmeanP]\n",
    "\n",
    "sbeanmeanM = [scoffeemeanM, sespmeanM]\n",
    "sbeanmeanS = [scoffeemeanS, sespmeanS]\n",
    "sbeanmeanP = [scoffeemeanP, sespmeanP]\n",
    "\n",
    "print(Leaves)\n",
    "LeavesmeanM = [teameanM, herbalmeanM]\n",
    "LeavesmeanS = [teameanS, herbalmeanS]\n",
    "LeavesmeanP = [teameanP, herbalmeanP]\n",
    "\n",
    "mleavesmeanM = [mteameanM, mherbalmeanM]\n",
    "mleavesmeanS = [mteameanS, mherbalmeanS]\n",
    "mleavesmeanP = [mteameanP, mherbalmeanP]\n",
    "\n",
    "sleavesmeanM = [steameanM, sherbalmeanM]\n",
    "sleavesmeanS = [steameanS, sherbalmeanS]\n",
    "sleavesmeanP = [steameanP, sherbalmeanP]"
   ]
  },
  {
   "cell_type": "markdown",
   "id": "9b7d476b",
   "metadata": {},
   "source": [
    "## Marketing VS Sales"
   ]
  },
  {
   "cell_type": "code",
   "execution_count": 14,
   "id": "6968af46",
   "metadata": {},
   "outputs": [
    {
     "name": "stdout",
     "output_type": "stream",
     "text": [
      "y = 3.9736997969445738*x + 69.06758312136641\n",
      "R**2 = 0.5048314145522697\n",
      "R = 0.7105148939693451\n",
      "MSE = 11307.593156928428\n"
     ]
    },
    {
     "data": {
      "text/plain": [
       "[Text(0.5, 0, 'Marketing'), Text(0, 0.5, 'Sales')]"
      ]
     },
     "execution_count": 14,
     "metadata": {},
     "output_type": "execute_result"
    },
    {
     "data": {
      "image/png": "[encoded data removed]",
      "text/plain": [
       "<Figure size 432x288 with 1 Axes>"
      ]
     },
     "metadata": {
      "needs_background": "light"
     },
     "output_type": "display_data"
    }
   ],
   "source": [
    "lineMS = LinearRegression().fit(m, s) #regression line\n",
    "coeffsMS = np.array([[lineMS.intercept_], [lineMS.coef_]]) #coefficients of regression line\n",
    "print(\"y = \" + str(coeffsMS[1][0][0])+\"*x + \" + str(coeffsMS[0][0][0]))\n",
    "detMS = lineMS.score(m, s) #coefficient of determination\n",
    "print(\"R**2 = \" + str(detMS))\n",
    "corrMS = np.sign(lineMS.coef_)*np.sqrt(detMS) #correlation coefficient\n",
    "print(\"R = \" + str(corrMS[0][0]))\n",
    "predictionMS = lineMS.predict(m)\n",
    "MSEMS = mean_squared_error(s, predictionMS) #mean squared error\n",
    "print(\"MSE = \" + str(MSEMS))\n",
    "graphMS = sns.regplot(x=dframe['Marketing'], y=dframe['Sales'])\n",
    "graphMS.set(xlabel='Marketing', ylabel='Sales')"
   ]
  },
  {
   "cell_type": "markdown",
   "id": "cdc9b8da",
   "metadata": {},
   "source": [
    "## Marketing VS Profit"
   ]
  },
  {
   "cell_type": "code",
   "execution_count": 15,
   "id": "ffd1a2ff",
   "metadata": {},
   "outputs": [
    {
     "name": "stdout",
     "output_type": "stream",
     "text": [
      "y = 0.8485918396366977*x + 34.63433254142375\n",
      "R**2 = 0.050834483148672005\n",
      "R = 0.22546503753059366\n",
      "MSE = 9816.453096807567\n"
     ]
    },
    {
     "data": {
      "text/plain": [
       "[Text(0.5, 0, 'Marketing'), Text(0, 0.5, 'Profit')]"
      ]
     },
     "execution_count": 15,
     "metadata": {},
     "output_type": "execute_result"
    },
    {
     "data": {
      "image/png": "[encoded data removed]",
      "text/plain": [
       "<Figure size 432x288 with 1 Axes>"
      ]
     },
     "metadata": {
      "needs_background": "light"
     },
     "output_type": "display_data"
    }
   ],
   "source": [
    "lineMP = LinearRegression().fit(m, p) #regression line\n",
    "coeffsMP = np.array([[lineMP.intercept_], [lineMP.coef_]]) #coefficients of regression line\n",
    "print(\"y = \" + str(coeffsMP[1][0][0])+\"*x + \" + str(coeffsMP[0][0][0]))\n",
    "detMP = lineMP.score(m, p) #coefficient of determination\n",
    "print(\"R**2 = \" + str(detMP))\n",
    "corrMP = np.sign(lineMP.coef_)*np.sqrt(detMP) #correlation coefficient\n",
    "print(\"R = \" + str(corrMP[0][0]))\n",
    "predictionMP = lineMP.predict(m)\n",
    "MSEMP = mean_squared_error(p, predictionMP) #mean squared error\n",
    "print(\"MSE = \" + str(MSEMP))\n",
    "graphMP = sns.regplot(x=dframe['Marketing'], y=dframe['Profit'])\n",
    "graphMP.set(xlabel='Marketing', ylabel='Profit')"
   ]
  },
  {
   "cell_type": "markdown",
   "id": "e330e096",
   "metadata": {},
   "source": [
    "## Sales VS Profit"
   ]
  },
  {
   "cell_type": "code",
   "execution_count": 16,
   "id": "f2e02b72",
   "metadata": {},
   "outputs": [
    {
     "name": "stdout",
     "output_type": "stream",
     "text": [
      "y = 0.5365823401211974*x - 42.456003963535544\n",
      "R**2 = 0.635736572930351\n",
      "R = 0.797330905540699\n",
      "MSE = 3767.2827164787145\n"
     ]
    },
    {
     "data": {
      "text/plain": [
       "[Text(0.5, 0, 'Sales'), Text(0, 0.5, 'Profit')]"
      ]
     },
     "execution_count": 16,
     "metadata": {},
     "output_type": "execute_result"
    },
    {
     "data": {
      "image/png": "[encoded data removed]",
      "text/plain": [
       "<Figure size 432x288 with 1 Axes>"
      ]
     },
     "metadata": {
      "needs_background": "light"
     },
     "output_type": "display_data"
    }
   ],
   "source": [
    "lineSP = LinearRegression().fit(s, p) #regression line\n",
    "coeffsSP = np.array([[lineSP.intercept_], [lineSP.coef_]]) #coefficients of regression line\n",
    "print(\"y = \" + str(coeffsSP[1][0][0])+\"*x - \" + str(-coeffsSP[0][0][0]))\n",
    "detSP = lineSP.score(s, p) #coefficient of determination\n",
    "print(\"R**2 = \" + str(detSP))\n",
    "corrSP = np.sign(lineSP.coef_)*np.sqrt(detSP) #correlation coefficient\n",
    "print(\"R = \" + str(corrSP[0][0]))\n",
    "predictionSP = lineSP.predict(s)\n",
    "MSESP = mean_squared_error(p, predictionSP) #mean squared error\n",
    "print(\"MSE = \" + str(MSESP))\n",
    "graphSP = sns.regplot(x=dframe['Sales'], y=dframe['Profit'])\n",
    "graphSP.set(xlabel='Sales', ylabel='Profit')"
   ]
  },
  {
   "cell_type": "markdown",
   "id": "f630364c",
   "metadata": {},
   "source": [
    "## Market Size"
   ]
  },
  {
   "cell_type": "code",
   "execution_count": 17,
   "id": "1b3c823e",
   "metadata": {},
   "outputs": [
    {
     "name": "stdout",
     "output_type": "stream",
     "text": [
      "[37.85328638497653, 26.718553459119498]\n"
     ]
    },
    {
     "data": {
      "image/png": "[encoded data removed]",
      "text/plain": [
       "<Figure size 432x288 with 1 Axes>"
      ]
     },
     "metadata": {
      "needs_background": "light"
     },
     "output_type": "display_data"
    }
   ],
   "source": [
    "graphmarketmeanM = sns.barplot(x=market_sizes, y=marketmeanM)\n",
    "graphmarketmeanM.set(xlabel='Market Size', ylabel='Mean Marketing')\n",
    "print(marketmeanM)"
   ]
  },
  {
   "cell_type": "code",
   "execution_count": 18,
   "id": "db5851a6",
   "metadata": {},
   "outputs": [
    {
     "name": "stdout",
     "output_type": "stream",
     "text": [
      "[249.49589201877933, 155.13757861635222]\n"
     ]
    },
    {
     "data": {
      "image/png": "[encoded data removed]",
      "text/plain": [
       "<Figure size 432x288 with 1 Axes>"
      ]
     },
     "metadata": {
      "needs_background": "light"
     },
     "output_type": "display_data"
    }
   ],
   "source": [
    "graphmarketmeanS = sns.barplot(x=market_sizes, y=marketmeanS)\n",
    "graphmarketmeanS.set(xlabel='Market Size', ylabel='Mean Sales')\n",
    "print(marketmeanS)"
   ]
  },
  {
   "cell_type": "code",
   "execution_count": 19,
   "id": "2712129f",
   "metadata": {},
   "outputs": [
    {
     "name": "stdout",
     "output_type": "stream",
     "text": [
      "[91.3943661971831, 40.804638364779876]\n"
     ]
    },
    {
     "data": {
      "image/png": "[encoded data removed]",
      "text/plain": [
       "<Figure size 432x288 with 1 Axes>"
      ]
     },
     "metadata": {
      "needs_background": "light"
     },
     "output_type": "display_data"
    }
   ],
   "source": [
    "graphmarketmeanP = sns.barplot(x=market_sizes, y=marketmeanP)\n",
    "graphmarketmeanP.set(xlabel='Market Size', ylabel='Mean Profit')\n",
    "print(marketmeanP)"
   ]
  },
  {
   "cell_type": "markdown",
   "id": "1ad21369",
   "metadata": {},
   "source": [
    "## Coffee Type"
   ]
  },
  {
   "cell_type": "code",
   "execution_count": 20,
   "id": "4f9fd881",
   "metadata": {},
   "outputs": [
    {
     "name": "stdout",
     "output_type": "stream",
     "text": [
      "[32.01916666666666, 30.1017316017316]\n"
     ]
    },
    {
     "data": {
      "image/png": "[encoded data removed]",
      "text/plain": [
       "<Figure size 432x288 with 1 Axes>"
      ]
     },
     "metadata": {
      "needs_background": "light"
     },
     "output_type": "display_data"
    }
   ],
   "source": [
    "graphtypemeanM = sns.barplot(x=types, y=typemeanM)\n",
    "graphtypemeanM.set(xlabel='Coffee Type', ylabel='Mean Marketing')\n",
    "print(typemeanM)"
   ]
  },
  {
   "cell_type": "code",
   "execution_count": 21,
   "id": "72c54744",
   "metadata": {},
   "outputs": [
    {
     "name": "stdout",
     "output_type": "stream",
     "text": [
      "[40.3625, 34.615591397849464]\n",
      "[26.456944444444446, 27.059782608695652]\n"
     ]
    },
    {
     "data": {
      "image/png": "[encoded data removed]",
      "text/plain": [
       "<Figure size 434.375x360 with 1 Axes>"
      ]
     },
     "metadata": {
      "needs_background": "light"
     },
     "output_type": "display_data"
    }
   ],
   "source": [
    "GraphtypemeanM = sns.catplot(data=dframe, kind=\"bar\", x=\"Market_Size\", y=\"Marketing\", hue=\"Type\")\n",
    "GraphtypemeanM.set(xlabel='Market Size', ylabel='Mean Marketing')\n",
    "print(mtypemeanM)\n",
    "print(stypemeanM)"
   ]
  },
  {
   "cell_type": "code",
   "execution_count": 22,
   "id": "9bc9061f",
   "metadata": {},
   "outputs": [
    {
     "name": "stdout",
     "output_type": "stream",
     "text": [
      "[196.74458333333334, 188.1082251082251]\n"
     ]
    },
    {
     "data": {
      "image/png": "[encoded data removed]",
      "text/plain": [
       "<Figure size 432x288 with 1 Axes>"
      ]
     },
     "metadata": {
      "needs_background": "light"
     },
     "output_type": "display_data"
    }
   ],
   "source": [
    "graphtypemeanS = sns.barplot(x=types, y=typemeanS)\n",
    "graphtypemeanS.set(xlabel='Coffee Type', ylabel='Mean Sales')\n",
    "print(typemeanS)"
   ]
  },
  {
   "cell_type": "code",
   "execution_count": 23,
   "id": "8443f1c0",
   "metadata": {},
   "outputs": [
    {
     "name": "stdout",
     "output_type": "stream",
     "text": [
      "[268.88645833333334, 224.4758064516129]\n",
      "[148.65, 163.5996376811594]\n"
     ]
    },
    {
     "data": {
      "image/png": "[encoded data removed]",
      "text/plain": [
       "<Figure size 434.375x360 with 1 Axes>"
      ]
     },
     "metadata": {
      "needs_background": "light"
     },
     "output_type": "display_data"
    }
   ],
   "source": [
    "GraphtypemeanS = sns.catplot(data=dframe, kind=\"bar\", x=\"Market_Size\", y=\"Sales\", hue=\"Type\")\n",
    "GraphtypemeanS.set(xlabel='Market Size', ylabel='Mean Sales')\n",
    "print(mtypemeanS)\n",
    "print(stypemeanS)"
   ]
  },
  {
   "cell_type": "code",
   "execution_count": 24,
   "id": "2180e335",
   "metadata": {},
   "outputs": [
    {
     "name": "stdout",
     "output_type": "stream",
     "text": [
      "[63.66583333333333, 57.762445887445885]\n"
     ]
    },
    {
     "data": {
      "image/png": "[encoded data removed]",
      "text/plain": [
       "<Figure size 432x288 with 1 Axes>"
      ]
     },
     "metadata": {
      "needs_background": "light"
     },
     "output_type": "display_data"
    }
   ],
   "source": [
    "graphtypemeanP = sns.barplot(x=types, y=typemeanP)\n",
    "graphtypemeanP.set(xlabel='Coffee Type', ylabel='Mean Profit')\n",
    "print(typemeanP)"
   ]
  },
  {
   "cell_type": "code",
   "execution_count": 25,
   "id": "e9640158",
   "metadata": {},
   "outputs": [
    {
     "name": "stdout",
     "output_type": "stream",
     "text": [
      "[107.146875, 71.06854838709677]\n",
      "[34.678472222222226, 48.79528985507246]\n"
     ]
    },
    {
     "data": {
      "image/png": "[encoded data removed]",
      "text/plain": [
       "<Figure size 434.375x360 with 1 Axes>"
      ]
     },
     "metadata": {
      "needs_background": "light"
     },
     "output_type": "display_data"
    }
   ],
   "source": [
    "GraphtypemeanP = sns.catplot(data=dframe, kind=\"bar\", x=\"Market_Size\", y=\"Profit\", hue=\"Type\")\n",
    "GraphtypemeanP.set(xlabel='Market Size', ylabel='Mean Profit')\n",
    "print(mtypemeanP)\n",
    "print(stypemeanP)"
   ]
  },
  {
   "cell_type": "markdown",
   "id": "1ca452db",
   "metadata": {},
   "source": [
    "## Coffee Product Lines"
   ]
  },
  {
   "cell_type": "code",
   "execution_count": 26,
   "id": "e212e41c",
   "metadata": {},
   "outputs": [
    {
     "name": "stdout",
     "output_type": "stream",
     "text": [
      "[32.07078853046595, 30.20436507936508]\n"
     ]
    },
    {
     "data": {
      "image/png": "[encoded data removed]",
      "text/plain": [
       "<Figure size 432x288 with 1 Axes>"
      ]
     },
     "metadata": {
      "needs_background": "light"
     },
     "output_type": "display_data"
    }
   ],
   "source": [
    "graphlinemeanM = sns.barplot(x=product_lines, y=linemeanM)\n",
    "graphlinemeanM.set(xlabel='Coffee Product Lines', ylabel='Mean Marketing')\n",
    "print(linemeanM)"
   ]
  },
  {
   "cell_type": "code",
   "execution_count": 27,
   "id": "25b044d5",
   "metadata": {},
   "outputs": [
    {
     "name": "stdout",
     "output_type": "stream",
     "text": [
      "[49.57142857142857, 26.46064814814815]\n",
      "[21.510057471264368, 33.01215277777778]\n"
     ]
    },
    {
     "data": {
      "image/png": "[encoded data removed]",
      "text/plain": [
       "<Figure size 431.75x360 with 1 Axes>"
      ]
     },
     "metadata": {
      "needs_background": "light"
     },
     "output_type": "display_data"
    }
   ],
   "source": [
    "GraphlinemeanM = sns.catplot(data=dframe, kind=\"bar\", x=\"Market_Size\", y=\"Marketing\", hue=\"Product_Line\")\n",
    "GraphlinemeanM.set(xlabel='Market Size', ylabel='Mean Marketing')\n",
    "print(mlinemeanM)\n",
    "print(slinemeanM)"
   ]
  },
  {
   "cell_type": "code",
   "execution_count": 28,
   "id": "df733c81",
   "metadata": {},
   "outputs": [
    {
     "name": "stdout",
     "output_type": "stream",
     "text": [
      "[197.05376344086022, 188.4856150793651]\n"
     ]
    },
    {
     "data": {
      "image/png": "[encoded data removed]",
      "text/plain": [
       "<Figure size 432x288 with 1 Axes>"
      ]
     },
     "metadata": {
      "needs_background": "light"
     },
     "output_type": "display_data"
    }
   ],
   "source": [
    "graphlinemeanS = sns.barplot(x=product_lines, y=linemeanS)\n",
    "graphlinemeanS.set(xlabel='Coffee Product Lines', ylabel='Mean Sales')\n",
    "print(linemeanS)"
   ]
  },
  {
   "cell_type": "code",
   "execution_count": 29,
   "id": "dce69ce5",
   "metadata": {},
   "outputs": [
    {
     "name": "stdout",
     "output_type": "stream",
     "text": [
      "[310.78809523809525, 189.90625]\n",
      "[128.42097701149424, 187.42013888888889]\n"
     ]
    },
    {
     "data": {
      "image/png": "[encoded data removed]",
      "text/plain": [
       "<Figure size 431.75x360 with 1 Axes>"
      ]
     },
     "metadata": {
      "needs_background": "light"
     },
     "output_type": "display_data"
    }
   ],
   "source": [
    "GraphlinemeanS = sns.catplot(data=dframe, kind=\"bar\", x=\"Market_Size\", y=\"Sales\", hue=\"Product_Line\")\n",
    "GraphlinemeanS.set(xlabel='Market Size', ylabel='Mean Sales')\n",
    "print(mlinemeanS)\n",
    "print(slinemeanS)"
   ]
  },
  {
   "cell_type": "code",
   "execution_count": 30,
   "id": "b65a4865",
   "metadata": {},
   "outputs": [
    {
     "name": "stdout",
     "output_type": "stream",
     "text": [
      "[64.20385304659499, 57.65873015873016]\n"
     ]
    },
    {
     "data": {
      "image/png": "[encoded data removed]",
      "text/plain": [
       "<Figure size 432x288 with 1 Axes>"
      ]
     },
     "metadata": {
      "needs_background": "light"
     },
     "output_type": "display_data"
    }
   ],
   "source": [
    "graphlinemeanP = sns.barplot(x=product_lines, y=linemeanP)\n",
    "graphlinemeanP.set(xlabel='Coffee Product Lines', ylabel='Mean Profit')\n",
    "print(linemeanP)"
   ]
  },
  {
   "cell_type": "code",
   "execution_count": 31,
   "id": "7be5cbf0",
   "metadata": {},
   "outputs": [
    {
     "name": "stdout",
     "output_type": "stream",
     "text": [
      "[114.2154761904762, 69.20717592592592]\n",
      "[34.02442528735632, 48.997395833333336]\n"
     ]
    },
    {
     "data": {
      "image/png": "[encoded data removed]",
      "text/plain": [
       "<Figure size 431.75x360 with 1 Axes>"
      ]
     },
     "metadata": {
      "needs_background": "light"
     },
     "output_type": "display_data"
    }
   ],
   "source": [
    "GraphlinemeanP = sns.catplot(data=dframe, kind=\"bar\", x=\"Market_Size\", y=\"Profit\", hue=\"Product_Line\")\n",
    "GraphlinemeanP.set(xlabel='Market Size', ylabel='Mean Profit')\n",
    "print(mlinemeanP)\n",
    "print(slinemeanP)"
   ]
  },
  {
   "cell_type": "markdown",
   "id": "6be15d73",
   "metadata": {},
   "source": [
    "## Coffee Product Types"
   ]
  },
  {
   "cell_type": "code",
   "execution_count": 32,
   "id": "2fc870e8",
   "metadata": {},
   "outputs": [
    {
     "name": "stdout",
     "output_type": "stream",
     "text": [
      "[31.59659090909091, 27.852083333333333, 32.49659863945578, 32.34280303030303]\n"
     ]
    },
    {
     "data": {
      "image/png": "[encoded data removed]",
      "text/plain": [
       "<Figure size 432x288 with 1 Axes>"
      ]
     },
     "metadata": {
      "needs_background": "light"
     },
     "output_type": "display_data"
    }
   ],
   "source": [
    "graphprodtypemeanM = sns.barplot(x=product_types, y=prodtypemeanM)\n",
    "graphprodtypemeanM.set(xlabel='Coffee Product Types', ylabel='Mean Marketing')\n",
    "print(prodtypemeanM)"
   ]
  },
  {
   "cell_type": "code",
   "execution_count": 33,
   "id": "839fa24e",
   "metadata": {},
   "outputs": [
    {
     "name": "stdout",
     "output_type": "stream",
     "text": [
      "[43.52450980392157, 20.470588235294116, 55.282407407407405, 31.82017543859649]\n",
      "[24.08641975308642, 33.30797101449275, 19.266129032258064, 32.74]\n"
     ]
    },
    {
     "data": {
      "image/png": "[encoded data removed]",
      "text/plain": [
       "<Figure size 448.625x360 with 1 Axes>"
      ]
     },
     "metadata": {
      "needs_background": "light"
     },
     "output_type": "display_data"
    }
   ],
   "source": [
    "GraphprodtypemeanM = sns.catplot(data=dframe, kind=\"bar\", x=\"Market_Size\", y=\"Marketing\", hue=\"Product_Type\")\n",
    "GraphprodtypemeanM.set(xlabel='Market Size', ylabel='Mean Marketing')\n",
    "print(mprodtypemeanM)\n",
    "print(sprodtypemeanM)"
   ]
  },
  {
   "cell_type": "code",
   "execution_count": 34,
   "id": "39a364b2",
   "metadata": {},
   "outputs": [
    {
     "name": "stdout",
     "output_type": "stream",
     "text": [
      "[205.32954545454547, 179.971875, 189.62244897959184, 196.22537878787878]\n"
     ]
    },
    {
     "data": {
      "image/png": "[encoded data removed]",
      "text/plain": [
       "<Figure size 432x288 with 1 Axes>"
      ]
     },
     "metadata": {
      "needs_background": "light"
     },
     "output_type": "display_data"
    }
   ],
   "source": [
    "graphprodtypemeanS = sns.barplot(x=product_types, y=prodtypemeanS)\n",
    "graphprodtypemeanS.set(xlabel='Coffee Product Types', ylabel='Mean Sales')\n",
    "print(prodtypemeanS)"
   ]
  },
  {
   "cell_type": "code",
   "execution_count": 35,
   "id": "37f86b83",
   "metadata": {},
   "outputs": [
    {
     "name": "stdout",
     "output_type": "stream",
     "text": [
      "[313.71813725490193, 172.94117647058823, 308.0208333333333, 205.08552631578948]\n",
      "[137.08487654320987, 185.16847826086956, 120.875, 189.49166666666667]\n"
     ]
    },
    {
     "data": {
      "image/png": "[encoded data removed]",
      "text/plain": [
       "<Figure size 448.625x360 with 1 Axes>"
      ]
     },
     "metadata": {
      "needs_background": "light"
     },
     "output_type": "display_data"
    }
   ],
   "source": [
    "GraphprodtypemeanS = sns.catplot(data=dframe, kind=\"bar\", x=\"Market_Size\", y=\"Sales\", hue=\"Product_Type\")\n",
    "GraphprodtypemeanS.set(xlabel='Market Size', ylabel='Mean Sales')\n",
    "print(mprodtypemeanS)\n",
    "print(sprodtypemeanS)"
   ]
  },
  {
   "cell_type": "code",
   "execution_count": 36,
   "id": "41f345c3",
   "metadata": {},
   "outputs": [
    {
     "name": "stdout",
     "output_type": "stream",
     "text": [
      "[70.72253787878788, 55.19375, 58.35034013605442, 59.89962121212121]\n"
     ]
    },
    {
     "data": {
      "image/png": "[encoded data removed]",
      "text/plain": [
       "<Figure size 432x288 with 1 Axes>"
      ]
     },
     "metadata": {
      "needs_background": "light"
     },
     "output_type": "display_data"
    }
   ],
   "source": [
    "graphprodtypemeanP = sns.barplot(x=product_types, y=prodtypemeanP)\n",
    "graphprodtypemeanP.set(xlabel='Coffee Product Types', ylabel='Mean Profit')\n",
    "print(prodtypemeanP)"
   ]
  },
  {
   "cell_type": "code",
   "execution_count": 37,
   "id": "3d9b92c3",
   "metadata": {},
   "outputs": [
    {
     "name": "stdout",
     "output_type": "stream",
     "text": [
      "[130.22058823529412, 75.41666666666667, 99.09953703703704, 63.651315789473685]\n",
      "[33.260802469135804, 40.2463768115942, 34.689516129032256, 57.04833333333333]\n"
     ]
    },
    {
     "data": {
      "image/png": "[encoded data removed]",
      "text/plain": [
       "<Figure size 448.625x360 with 1 Axes>"
      ]
     },
     "metadata": {
      "needs_background": "light"
     },
     "output_type": "display_data"
    }
   ],
   "source": [
    "GraphprodtypemeanP = sns.catplot(data=dframe, kind=\"bar\", x=\"Market_Size\", y=\"Profit\", hue=\"Product_Type\")\n",
    "GraphprodtypemeanP.set(xlabel='Market Size', ylabel='Mean Profit')\n",
    "print(mprodtypemeanP)\n",
    "print(sprodtypemeanP)"
   ]
  },
  {
   "cell_type": "markdown",
   "id": "e2ae3590",
   "metadata": {},
   "source": [
    "### Beans"
   ]
  },
  {
   "cell_type": "code",
   "execution_count": 38,
   "id": "d9c3908f",
   "metadata": {},
   "outputs": [
    {
     "name": "stdout",
     "output_type": "stream",
     "text": [
      "[31.59659090909091, 32.49659863945578]\n"
     ]
    },
    {
     "data": {
      "image/png": "[encoded data removed]",
      "text/plain": [
       "<Figure size 432x288 with 1 Axes>"
      ]
     },
     "metadata": {
      "needs_background": "light"
     },
     "output_type": "display_data"
    }
   ],
   "source": [
    "graphBeanmeanM = sns.barplot(x=Beans, y=BeanmeanM)\n",
    "graphBeanmeanM.set(xlabel='Beans', ylabel='Mean Marketing')\n",
    "print(BeanmeanM)"
   ]
  },
  {
   "cell_type": "code",
   "execution_count": 39,
   "id": "3fb4a46f",
   "metadata": {},
   "outputs": [
    {
     "name": "stdout",
     "output_type": "stream",
     "text": [
      "[43.52450980392157, 55.282407407407405]\n",
      "[24.08641975308642, 19.266129032258064]\n"
     ]
    },
    {
     "data": {
      "image/png": "[encoded data removed]",
      "text/plain": [
       "<Figure size 440.25x360 with 1 Axes>"
      ]
     },
     "metadata": {
      "needs_background": "light"
     },
     "output_type": "display_data"
    }
   ],
   "source": [
    "GraphBeanmeanM = sns.catplot(data=beans, kind=\"bar\", x=\"Market_Size\", y=\"Marketing\", hue=\"Product_Type\")\n",
    "GraphBeanmeanM.set(xlabel='Market Size', ylabel='Mean Marketing')\n",
    "print(mbeanmeanM)\n",
    "print(sbeanmeanM)"
   ]
  },
  {
   "cell_type": "code",
   "execution_count": 40,
   "id": "57f4cabc",
   "metadata": {},
   "outputs": [
    {
     "name": "stdout",
     "output_type": "stream",
     "text": [
      "[205.32954545454547, 189.62244897959184]\n"
     ]
    },
    {
     "data": {
      "image/png": "[encoded data removed]",
      "text/plain": [
       "<Figure size 432x288 with 1 Axes>"
      ]
     },
     "metadata": {
      "needs_background": "light"
     },
     "output_type": "display_data"
    }
   ],
   "source": [
    "graphBeanmeanS = sns.barplot(x=Beans, y=BeanmeanS)\n",
    "graphBeanmeanS.set(xlabel='Beans', ylabel='Mean Sales')\n",
    "print(BeanmeanS)"
   ]
  },
  {
   "cell_type": "code",
   "execution_count": 41,
   "id": "89c97e9d",
   "metadata": {},
   "outputs": [
    {
     "name": "stdout",
     "output_type": "stream",
     "text": [
      "[313.71813725490193, 308.0208333333333]\n",
      "[137.08487654320987, 120.875]\n"
     ]
    },
    {
     "data": {
      "image/png": "[encoded data removed]",
      "text/plain": [
       "<Figure size 440.25x360 with 1 Axes>"
      ]
     },
     "metadata": {
      "needs_background": "light"
     },
     "output_type": "display_data"
    }
   ],
   "source": [
    "GraphBeanmeanS = sns.catplot(data=beans, kind=\"bar\", x=\"Market_Size\", y=\"Sales\", hue=\"Product_Type\")\n",
    "GraphBeanmeanS.set(xlabel='Market Size', ylabel='Mean Sales')\n",
    "print(mbeanmeanS)\n",
    "print(sbeanmeanS)"
   ]
  },
  {
   "cell_type": "code",
   "execution_count": 42,
   "id": "4bcbac80",
   "metadata": {},
   "outputs": [
    {
     "name": "stdout",
     "output_type": "stream",
     "text": [
      "[70.72253787878788, 58.35034013605442]\n"
     ]
    },
    {
     "data": {
      "image/png": "[encoded data removed]",
      "text/plain": [
       "<Figure size 432x288 with 1 Axes>"
      ]
     },
     "metadata": {
      "needs_background": "light"
     },
     "output_type": "display_data"
    }
   ],
   "source": [
    "graphBeanmeanP = sns.barplot(x=Beans, y=BeanmeanP)\n",
    "graphBeanmeanP.set(xlabel='Beans', ylabel='Mean Profit')\n",
    "print(BeanmeanP)"
   ]
  },
  {
   "cell_type": "code",
   "execution_count": 43,
   "id": "128ae7b8",
   "metadata": {},
   "outputs": [
    {
     "name": "stdout",
     "output_type": "stream",
     "text": [
      "[130.22058823529412, 99.09953703703704]\n",
      "[33.260802469135804, 34.689516129032256]\n"
     ]
    },
    {
     "data": {
      "image/png": "[encoded data removed]",
      "text/plain": [
       "<Figure size 440.25x360 with 1 Axes>"
      ]
     },
     "metadata": {
      "needs_background": "light"
     },
     "output_type": "display_data"
    }
   ],
   "source": [
    "GraphBeanmeanP = sns.catplot(data=beans, kind=\"bar\", x=\"Market_Size\", y=\"Profit\", hue=\"Product_Type\")\n",
    "GraphBeanmeanP.set(xlabel='Market Size', ylabel='Mean Profit')\n",
    "print(mbeanmeanP)\n",
    "print(sbeanmeanP)"
   ]
  },
  {
   "cell_type": "markdown",
   "id": "a2bc5c59",
   "metadata": {},
   "source": [
    "### Leaves"
   ]
  },
  {
   "cell_type": "code",
   "execution_count": 44,
   "id": "e1cf75c9",
   "metadata": {},
   "outputs": [
    {
     "name": "stdout",
     "output_type": "stream",
     "text": [
      "[27.852083333333333, 32.34280303030303]\n"
     ]
    },
    {
     "data": {
      "image/png": "[encoded data removed]",
      "text/plain": [
       "<Figure size 432x288 with 1 Axes>"
      ]
     },
     "metadata": {
      "needs_background": "light"
     },
     "output_type": "display_data"
    }
   ],
   "source": [
    "graphLeavesmeanM = sns.barplot(x=Leaves, y=LeavesmeanM)\n",
    "graphLeavesmeanM.set(xlabel='Leaves', ylabel='Mean Marketing')\n",
    "print(LeavesmeanM)"
   ]
  },
  {
   "cell_type": "code",
   "execution_count": 45,
   "id": "7ebf8433",
   "metadata": {},
   "outputs": [
    {
     "name": "stdout",
     "output_type": "stream",
     "text": [
      "[20.470588235294116, 31.82017543859649]\n",
      "[33.30797101449275, 32.74]\n"
     ]
    },
    {
     "data": {
      "image/png": "[encoded data removed]",
      "text/plain": [
       "<Figure size 448.625x360 with 1 Axes>"
      ]
     },
     "metadata": {
      "needs_background": "light"
     },
     "output_type": "display_data"
    }
   ],
   "source": [
    "GraphLeavesmeanM = sns.catplot(data=leaves, kind=\"bar\", x=\"Market_Size\", y=\"Marketing\", hue=\"Product_Type\")\n",
    "GraphLeavesmeanM.set(xlabel='Market Size', ylabel='Mean Marketing')\n",
    "print(mleavesmeanM)\n",
    "print(sleavesmeanM)"
   ]
  },
  {
   "cell_type": "code",
   "execution_count": 46,
   "id": "df43c15e",
   "metadata": {},
   "outputs": [
    {
     "name": "stdout",
     "output_type": "stream",
     "text": [
      "[179.971875, 196.22537878787878]\n"
     ]
    },
    {
     "data": {
      "image/png": "[encoded data removed]",
      "text/plain": [
       "<Figure size 432x288 with 1 Axes>"
      ]
     },
     "metadata": {
      "needs_background": "light"
     },
     "output_type": "display_data"
    }
   ],
   "source": [
    "graphLeavesmeanS = sns.barplot(x=Leaves, y=LeavesmeanS)\n",
    "graphLeavesmeanS.set(xlabel='Leaves', ylabel='Mean Sales')\n",
    "print(LeavesmeanS)"
   ]
  },
  {
   "cell_type": "code",
   "execution_count": 47,
   "id": "d8c82b28",
   "metadata": {},
   "outputs": [
    {
     "name": "stdout",
     "output_type": "stream",
     "text": [
      "[172.94117647058823, 205.08552631578948]\n",
      "[185.16847826086956, 189.49166666666667]\n"
     ]
    },
    {
     "data": {
      "image/png": "[encoded data removed]",
      "text/plain": [
       "<Figure size 448.625x360 with 1 Axes>"
      ]
     },
     "metadata": {
      "needs_background": "light"
     },
     "output_type": "display_data"
    }
   ],
   "source": [
    "GraphLeavesmeanS = sns.catplot(data=leaves, kind=\"bar\", x=\"Market_Size\", y=\"Sales\", hue=\"Product_Type\")\n",
    "GraphLeavesmeanS.set(xlabel='Market Size', ylabel='Mean Sales')\n",
    "print(mleavesmeanS)\n",
    "print(sleavesmeanS)"
   ]
  },
  {
   "cell_type": "code",
   "execution_count": 48,
   "id": "14de4d68",
   "metadata": {},
   "outputs": [
    {
     "name": "stdout",
     "output_type": "stream",
     "text": [
      "[55.19375, 59.89962121212121]\n"
     ]
    },
    {
     "data": {
      "image/png": "[encoded data removed]",
      "text/plain": [
       "<Figure size 432x288 with 1 Axes>"
      ]
     },
     "metadata": {
      "needs_background": "light"
     },
     "output_type": "display_data"
    }
   ],
   "source": [
    "graphLeavesmeanP = sns.barplot(x=Leaves, y=LeavesmeanP)\n",
    "graphLeavesmeanP.set(xlabel='Leaves', ylabel='Mean Profit')\n",
    "print(LeavesmeanP)"
   ]
  },
  {
   "cell_type": "code",
   "execution_count": 49,
   "id": "794c2ccc",
   "metadata": {},
   "outputs": [
    {
     "name": "stdout",
     "output_type": "stream",
     "text": [
      "[75.41666666666667, 63.651315789473685]\n",
      "[40.2463768115942, 57.04833333333333]\n"
     ]
    },
    {
     "data": {
      "image/png": "[encoded data removed]",
      "text/plain": [
       "<Figure size 448.625x360 with 1 Axes>"
      ]
     },
     "metadata": {
      "needs_background": "light"
     },
     "output_type": "display_data"
    }
   ],
   "source": [
    "GraphLeavesmeanP = sns.catplot(data=leaves, kind=\"bar\", x=\"Market_Size\", y=\"Profit\", hue=\"Product_Type\")\n",
    "GraphLeavesmeanP.set(xlabel='Market Size', ylabel='Mean Profit')\n",
    "print(mleavesmeanP)\n",
    "print(sleavesmeanP)"
   ]
  }
 ],
 "metadata": {
  "kernelspec": {
   "display_name": "Python 3",
   "language": "python",
   "name": "python3"
  },
  "language_info": {
   "codemirror_mode": {
    "name": "ipython",
    "version": 3
   },
   "file_extension": ".py",
   "mimetype": "text/x-python",
   "name": "python",
   "nbconvert_exporter": "python",
   "pygments_lexer": "ipython3",
   "version": "3.8.8"
  }
 },
 "nbformat": 4,
 "nbformat_minor": 5
}
